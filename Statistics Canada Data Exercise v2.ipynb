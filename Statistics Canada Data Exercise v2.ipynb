{
 "cells": [
  {
   "cell_type": "markdown",
   "id": "d5502890",
   "metadata": {},
   "source": [
    "# Statistics Canada Data Exercise"
   ]
  },
  {
   "cell_type": "code",
   "execution_count": 1,
   "id": "48983c25",
   "metadata": {},
   "outputs": [],
   "source": [
    "# Adding imports\n",
    "import pandas as pd\n",
    "import numpy as np\n",
    "import seaborn as sns\n",
    "import matplotlib.pyplot as plt\n",
    "%matplotlib inline"
   ]
  },
  {
   "cell_type": "markdown",
   "id": "74f641c8",
   "metadata": {},
   "source": [
    "## Part 1) Data Ingestion"
   ]
  },
  {
   "cell_type": "markdown",
   "id": "7b5e282f",
   "metadata": {},
   "source": [
    "### Dataset 1: 98-400-X2016170 || Aboriginal Peoples"
   ]
  },
  {
   "cell_type": "code",
   "execution_count": 2,
   "id": "652733fd",
   "metadata": {},
   "outputs": [],
   "source": [
    "aboriginal_people_df = pd.read_csv(\"../98-400-X2016170_English_CSV_data.csv\")"
   ]
  },
  {
   "cell_type": "code",
   "execution_count": 3,
   "id": "bdaac722",
   "metadata": {},
   "outputs": [
    {
     "data": {
      "text/html": [
       "<div>\n",
       "<style scoped>\n",
       "    .dataframe tbody tr th:only-of-type {\n",
       "        vertical-align: middle;\n",
       "    }\n",
       "\n",
       "    .dataframe tbody tr th {\n",
       "        vertical-align: top;\n",
       "    }\n",
       "\n",
       "    .dataframe thead th {\n",
       "        text-align: right;\n",
       "    }\n",
       "</style>\n",
       "<table border=\"1\" class=\"dataframe\">\n",
       "  <thead>\n",
       "    <tr style=\"text-align: right;\">\n",
       "      <th></th>\n",
       "      <th>CENSUS_YEAR</th>\n",
       "      <th>GEO_CODE (POR)</th>\n",
       "      <th>GEO_LEVEL</th>\n",
       "      <th>GEO_NAME</th>\n",
       "      <th>GNR</th>\n",
       "      <th>DATA_QUALITY_FLAG</th>\n",
       "      <th>ALT_GEO_CODE</th>\n",
       "      <th>DIM: Registered or Treaty Indian status (3)</th>\n",
       "      <th>Member ID: Registered or Treaty Indian status (3)</th>\n",
       "      <th>Notes: Registered or Treaty Indian status (3)</th>\n",
       "      <th>...</th>\n",
       "      <th>Notes: Income statistics (17)</th>\n",
       "      <th>Dim: Aboriginal identity (9): Member ID: [1]: Total - Aboriginal identity (Note: 4)</th>\n",
       "      <th>Dim: Aboriginal identity (9): Member ID: [2]: Aboriginal identity (Note: 5)</th>\n",
       "      <th>Dim: Aboriginal identity (9): Member ID: [3]: Single Aboriginal responses (Note: 6)</th>\n",
       "      <th>Dim: Aboriginal identity (9): Member ID: [4]: First Nations (North American Indian) (Note: 7)</th>\n",
       "      <th>Dim: Aboriginal identity (9): Member ID: [5]: Métis</th>\n",
       "      <th>Dim: Aboriginal identity (9): Member ID: [6]: Inuk (Inuit)</th>\n",
       "      <th>Dim: Aboriginal identity (9): Member ID: [7]: Multiple Aboriginal responses (Note: 8)</th>\n",
       "      <th>Dim: Aboriginal identity (9): Member ID: [8]: Aboriginal responses not included elsewhere (Note: 9)</th>\n",
       "      <th>Dim: Aboriginal identity (9): Member ID: [9]: Non-Aboriginal identity</th>\n",
       "    </tr>\n",
       "  </thead>\n",
       "  <tbody>\n",
       "    <tr>\n",
       "      <th>0</th>\n",
       "      <td>2016</td>\n",
       "      <td>1</td>\n",
       "      <td>0</td>\n",
       "      <td>Canada</td>\n",
       "      <td>5.1</td>\n",
       "      <td>20000</td>\n",
       "      <td>1</td>\n",
       "      <td>Total - Population by Registered or Treaty Ind...</td>\n",
       "      <td>1</td>\n",
       "      <td>1.0</td>\n",
       "      <td>...</td>\n",
       "      <td>3.0</td>\n",
       "      <td>28643020</td>\n",
       "      <td>1224915</td>\n",
       "      <td>1191495</td>\n",
       "      <td>691405</td>\n",
       "      <td>456555</td>\n",
       "      <td>43530</td>\n",
       "      <td>15300</td>\n",
       "      <td>18120</td>\n",
       "      <td>27418100</td>\n",
       "    </tr>\n",
       "    <tr>\n",
       "      <th>1</th>\n",
       "      <td>2016</td>\n",
       "      <td>1</td>\n",
       "      <td>0</td>\n",
       "      <td>Canada</td>\n",
       "      <td>5.1</td>\n",
       "      <td>20000</td>\n",
       "      <td>1</td>\n",
       "      <td>Total - Population by Registered or Treaty Ind...</td>\n",
       "      <td>1</td>\n",
       "      <td>1.0</td>\n",
       "      <td>...</td>\n",
       "      <td>NaN</td>\n",
       "      <td>27489400</td>\n",
       "      <td>1139125</td>\n",
       "      <td>1107725</td>\n",
       "      <td>634225</td>\n",
       "      <td>432640</td>\n",
       "      <td>40860</td>\n",
       "      <td>14200</td>\n",
       "      <td>17200</td>\n",
       "      <td>26350270</td>\n",
       "    </tr>\n",
       "    <tr>\n",
       "      <th>2</th>\n",
       "      <td>2016</td>\n",
       "      <td>1</td>\n",
       "      <td>0</td>\n",
       "      <td>Canada</td>\n",
       "      <td>5.1</td>\n",
       "      <td>20000</td>\n",
       "      <td>1</td>\n",
       "      <td>Total - Population by Registered or Treaty Ind...</td>\n",
       "      <td>1</td>\n",
       "      <td>1.0</td>\n",
       "      <td>...</td>\n",
       "      <td>NaN</td>\n",
       "      <td>96</td>\n",
       "      <td>93</td>\n",
       "      <td>93</td>\n",
       "      <td>91.7</td>\n",
       "      <td>94.8</td>\n",
       "      <td>93.9</td>\n",
       "      <td>92.8</td>\n",
       "      <td>94.9</td>\n",
       "      <td>96.1</td>\n",
       "    </tr>\n",
       "    <tr>\n",
       "      <th>3</th>\n",
       "      <td>2016</td>\n",
       "      <td>1</td>\n",
       "      <td>0</td>\n",
       "      <td>Canada</td>\n",
       "      <td>5.1</td>\n",
       "      <td>20000</td>\n",
       "      <td>1</td>\n",
       "      <td>Total - Population by Registered or Treaty Ind...</td>\n",
       "      <td>1</td>\n",
       "      <td>1.0</td>\n",
       "      <td>...</td>\n",
       "      <td>NaN</td>\n",
       "      <td>34205</td>\n",
       "      <td>25526</td>\n",
       "      <td>25485</td>\n",
       "      <td>21875</td>\n",
       "      <td>31916</td>\n",
       "      <td>24502</td>\n",
       "      <td>24800</td>\n",
       "      <td>28813</td>\n",
       "      <td>34604</td>\n",
       "    </tr>\n",
       "    <tr>\n",
       "      <th>4</th>\n",
       "      <td>2016</td>\n",
       "      <td>1</td>\n",
       "      <td>0</td>\n",
       "      <td>Canada</td>\n",
       "      <td>5.1</td>\n",
       "      <td>20000</td>\n",
       "      <td>1</td>\n",
       "      <td>Total - Population by Registered or Treaty Ind...</td>\n",
       "      <td>1</td>\n",
       "      <td>1.0</td>\n",
       "      <td>...</td>\n",
       "      <td>NaN</td>\n",
       "      <td>47487</td>\n",
       "      <td>36043</td>\n",
       "      <td>35920</td>\n",
       "      <td>31519</td>\n",
       "      <td>42187</td>\n",
       "      <td>37871</td>\n",
       "      <td>41057</td>\n",
       "      <td>39795</td>\n",
       "      <td>47981</td>\n",
       "    </tr>\n",
       "  </tbody>\n",
       "</table>\n",
       "<p>5 rows × 28 columns</p>\n",
       "</div>"
      ],
      "text/plain": [
       "   CENSUS_YEAR  GEO_CODE (POR)  GEO_LEVEL GEO_NAME  GNR  DATA_QUALITY_FLAG  \\\n",
       "0         2016               1          0   Canada  5.1              20000   \n",
       "1         2016               1          0   Canada  5.1              20000   \n",
       "2         2016               1          0   Canada  5.1              20000   \n",
       "3         2016               1          0   Canada  5.1              20000   \n",
       "4         2016               1          0   Canada  5.1              20000   \n",
       "\n",
       "   ALT_GEO_CODE        DIM: Registered or Treaty Indian status (3)  \\\n",
       "0             1  Total - Population by Registered or Treaty Ind...   \n",
       "1             1  Total - Population by Registered or Treaty Ind...   \n",
       "2             1  Total - Population by Registered or Treaty Ind...   \n",
       "3             1  Total - Population by Registered or Treaty Ind...   \n",
       "4             1  Total - Population by Registered or Treaty Ind...   \n",
       "\n",
       "   Member ID: Registered or Treaty Indian status (3)  \\\n",
       "0                                                  1   \n",
       "1                                                  1   \n",
       "2                                                  1   \n",
       "3                                                  1   \n",
       "4                                                  1   \n",
       "\n",
       "   Notes: Registered or Treaty Indian status (3)  ...  \\\n",
       "0                                            1.0  ...   \n",
       "1                                            1.0  ...   \n",
       "2                                            1.0  ...   \n",
       "3                                            1.0  ...   \n",
       "4                                            1.0  ...   \n",
       "\n",
       "  Notes: Income statistics (17)  \\\n",
       "0                           3.0   \n",
       "1                           NaN   \n",
       "2                           NaN   \n",
       "3                           NaN   \n",
       "4                           NaN   \n",
       "\n",
       "   Dim: Aboriginal identity (9): Member ID: [1]: Total - Aboriginal identity (Note: 4)  \\\n",
       "0                                           28643020                                     \n",
       "1                                           27489400                                     \n",
       "2                                                 96                                     \n",
       "3                                              34205                                     \n",
       "4                                              47487                                     \n",
       "\n",
       "   Dim: Aboriginal identity (9): Member ID: [2]: Aboriginal identity (Note: 5)  \\\n",
       "0                                            1224915                             \n",
       "1                                            1139125                             \n",
       "2                                                 93                             \n",
       "3                                              25526                             \n",
       "4                                              36043                             \n",
       "\n",
       "  Dim: Aboriginal identity (9): Member ID: [3]: Single Aboriginal responses (Note: 6)  \\\n",
       "0                                            1191495                                    \n",
       "1                                            1107725                                    \n",
       "2                                                 93                                    \n",
       "3                                              25485                                    \n",
       "4                                              35920                                    \n",
       "\n",
       "   Dim: Aboriginal identity (9): Member ID: [4]: First Nations (North American Indian) (Note: 7)  \\\n",
       "0                                             691405                                               \n",
       "1                                             634225                                               \n",
       "2                                               91.7                                               \n",
       "3                                              21875                                               \n",
       "4                                              31519                                               \n",
       "\n",
       "   Dim: Aboriginal identity (9): Member ID: [5]: Métis  \\\n",
       "0                                             456555     \n",
       "1                                             432640     \n",
       "2                                               94.8     \n",
       "3                                              31916     \n",
       "4                                              42187     \n",
       "\n",
       "  Dim: Aboriginal identity (9): Member ID: [6]: Inuk (Inuit)  \\\n",
       "0                                              43530           \n",
       "1                                              40860           \n",
       "2                                               93.9           \n",
       "3                                              24502           \n",
       "4                                              37871           \n",
       "\n",
       "   Dim: Aboriginal identity (9): Member ID: [7]: Multiple Aboriginal responses (Note: 8)  \\\n",
       "0                                              15300                                       \n",
       "1                                              14200                                       \n",
       "2                                               92.8                                       \n",
       "3                                              24800                                       \n",
       "4                                              41057                                       \n",
       "\n",
       "   Dim: Aboriginal identity (9): Member ID: [8]: Aboriginal responses not included elsewhere (Note: 9)  \\\n",
       "0                                              18120                                                     \n",
       "1                                              17200                                                     \n",
       "2                                               94.9                                                     \n",
       "3                                              28813                                                     \n",
       "4                                              39795                                                     \n",
       "\n",
       "  Dim: Aboriginal identity (9): Member ID: [9]: Non-Aboriginal identity  \n",
       "0                                           27418100                     \n",
       "1                                           26350270                     \n",
       "2                                               96.1                     \n",
       "3                                              34604                     \n",
       "4                                              47981                     \n",
       "\n",
       "[5 rows x 28 columns]"
      ]
     },
     "execution_count": 3,
     "metadata": {},
     "output_type": "execute_result"
    }
   ],
   "source": [
    "aboriginal_people_df.head()"
   ]
  },
  {
   "cell_type": "code",
   "execution_count": 4,
   "id": "d3eb47c5",
   "metadata": {},
   "outputs": [],
   "source": [
    "aborginal_geo_df = pd.read_csv(\"../Geo_starting_row_CSV_aborginal.csv\")"
   ]
  },
  {
   "cell_type": "code",
   "execution_count": 5,
   "id": "65f29d6a",
   "metadata": {},
   "outputs": [
    {
     "data": {
      "text/html": [
       "<div>\n",
       "<style scoped>\n",
       "    .dataframe tbody tr th:only-of-type {\n",
       "        vertical-align: middle;\n",
       "    }\n",
       "\n",
       "    .dataframe tbody tr th {\n",
       "        vertical-align: top;\n",
       "    }\n",
       "\n",
       "    .dataframe thead th {\n",
       "        text-align: right;\n",
       "    }\n",
       "</style>\n",
       "<table border=\"1\" class=\"dataframe\">\n",
       "  <thead>\n",
       "    <tr style=\"text-align: right;\">\n",
       "      <th></th>\n",
       "      <th>Geo Code</th>\n",
       "      <th>Geo Name</th>\n",
       "      <th>Line Number</th>\n",
       "    </tr>\n",
       "  </thead>\n",
       "  <tbody>\n",
       "    <tr>\n",
       "      <th>0</th>\n",
       "      <td>1</td>\n",
       "      <td>Canada</td>\n",
       "      <td>2</td>\n",
       "    </tr>\n",
       "    <tr>\n",
       "      <th>1</th>\n",
       "      <td>10</td>\n",
       "      <td>Newfoundland and Labrador</td>\n",
       "      <td>1379</td>\n",
       "    </tr>\n",
       "    <tr>\n",
       "      <th>2</th>\n",
       "      <td>10001</td>\n",
       "      <td>St. John's</td>\n",
       "      <td>2756</td>\n",
       "    </tr>\n",
       "    <tr>\n",
       "      <th>3</th>\n",
       "      <td>10005</td>\n",
       "      <td>Bay Roberts</td>\n",
       "      <td>4133</td>\n",
       "    </tr>\n",
       "    <tr>\n",
       "      <th>4</th>\n",
       "      <td>10010</td>\n",
       "      <td>Grand Falls-Windsor</td>\n",
       "      <td>5510</td>\n",
       "    </tr>\n",
       "  </tbody>\n",
       "</table>\n",
       "</div>"
      ],
      "text/plain": [
       "   Geo Code                   Geo Name  Line Number\n",
       "0         1                     Canada            2\n",
       "1        10  Newfoundland and Labrador         1379\n",
       "2     10001                 St. John's         2756\n",
       "3     10005                Bay Roberts         4133\n",
       "4     10010        Grand Falls-Windsor         5510"
      ]
     },
     "execution_count": 5,
     "metadata": {},
     "output_type": "execute_result"
    }
   ],
   "source": [
    "aborginal_geo_df.head()"
   ]
  },
  {
   "cell_type": "markdown",
   "id": "417ad3df",
   "metadata": {},
   "source": [
    "### Dataset 2: 98-400-X2016131 || Income"
   ]
  },
  {
   "cell_type": "code",
   "execution_count": 7,
   "id": "06a88293",
   "metadata": {},
   "outputs": [],
   "source": [
    "income_df = pd.read_csv(\"../98-400-X2016131_English_CSV_data.csv\")"
   ]
  },
  {
   "cell_type": "code",
   "execution_count": 8,
   "id": "78fb86bd",
   "metadata": {},
   "outputs": [
    {
     "data": {
      "text/html": [
       "<div>\n",
       "<style scoped>\n",
       "    .dataframe tbody tr th:only-of-type {\n",
       "        vertical-align: middle;\n",
       "    }\n",
       "\n",
       "    .dataframe tbody tr th {\n",
       "        vertical-align: top;\n",
       "    }\n",
       "\n",
       "    .dataframe thead th {\n",
       "        text-align: right;\n",
       "    }\n",
       "</style>\n",
       "<table border=\"1\" class=\"dataframe\">\n",
       "  <thead>\n",
       "    <tr style=\"text-align: right;\">\n",
       "      <th></th>\n",
       "      <th>CENSUS_YEAR</th>\n",
       "      <th>GEO_CODE (POR)</th>\n",
       "      <th>GEO_LEVEL</th>\n",
       "      <th>GEO_NAME</th>\n",
       "      <th>GNR</th>\n",
       "      <th>DATA_QUALITY_FLAG</th>\n",
       "      <th>ALT_GEO_CODE</th>\n",
       "      <th>DIM: Household living arrangements for persons not in economic families (3)</th>\n",
       "      <th>Member ID: Household living arrangements for persons not in economic families (3)</th>\n",
       "      <th>Notes: Household living arrangements for persons not in economic families (3)</th>\n",
       "      <th>...</th>\n",
       "      <th>Member ID: Sex (3)</th>\n",
       "      <th>Notes: Sex (3)</th>\n",
       "      <th>DIM: Presence of earner (3)</th>\n",
       "      <th>Member ID: Presence of earner (3)</th>\n",
       "      <th>Notes: Presence of earner (3)</th>\n",
       "      <th>DIM: After-tax income groups (18)</th>\n",
       "      <th>Member ID: After-tax income groups (18)</th>\n",
       "      <th>Notes: After-tax income groups (18)</th>\n",
       "      <th>Dim: Year (2): Member ID: [1]: 2015 (Note: 2)</th>\n",
       "      <th>Dim: Year (2): Member ID: [2]: 2005 (Note: 3)</th>\n",
       "    </tr>\n",
       "  </thead>\n",
       "  <tbody>\n",
       "    <tr>\n",
       "      <th>0</th>\n",
       "      <td>2016</td>\n",
       "      <td>1</td>\n",
       "      <td>0</td>\n",
       "      <td>Canada</td>\n",
       "      <td>4.0</td>\n",
       "      <td>20000</td>\n",
       "      <td>1</td>\n",
       "      <td>Total - Household living arrangements for pers...</td>\n",
       "      <td>1</td>\n",
       "      <td>NaN</td>\n",
       "      <td>...</td>\n",
       "      <td>1</td>\n",
       "      <td>NaN</td>\n",
       "      <td>Total - Presence of earner</td>\n",
       "      <td>1</td>\n",
       "      <td>NaN</td>\n",
       "      <td>Total - After-tax income</td>\n",
       "      <td>1</td>\n",
       "      <td>NaN</td>\n",
       "      <td>5313545</td>\n",
       "      <td>4307135</td>\n",
       "    </tr>\n",
       "    <tr>\n",
       "      <th>1</th>\n",
       "      <td>2016</td>\n",
       "      <td>1</td>\n",
       "      <td>0</td>\n",
       "      <td>Canada</td>\n",
       "      <td>4.0</td>\n",
       "      <td>20000</td>\n",
       "      <td>1</td>\n",
       "      <td>Total - Household living arrangements for pers...</td>\n",
       "      <td>1</td>\n",
       "      <td>NaN</td>\n",
       "      <td>...</td>\n",
       "      <td>1</td>\n",
       "      <td>NaN</td>\n",
       "      <td>Total - Presence of earner</td>\n",
       "      <td>1</td>\n",
       "      <td>NaN</td>\n",
       "      <td>Under $5,000</td>\n",
       "      <td>2</td>\n",
       "      <td>NaN</td>\n",
       "      <td>315875</td>\n",
       "      <td>282555</td>\n",
       "    </tr>\n",
       "    <tr>\n",
       "      <th>2</th>\n",
       "      <td>2016</td>\n",
       "      <td>1</td>\n",
       "      <td>0</td>\n",
       "      <td>Canada</td>\n",
       "      <td>4.0</td>\n",
       "      <td>20000</td>\n",
       "      <td>1</td>\n",
       "      <td>Total - Household living arrangements for pers...</td>\n",
       "      <td>1</td>\n",
       "      <td>NaN</td>\n",
       "      <td>...</td>\n",
       "      <td>1</td>\n",
       "      <td>NaN</td>\n",
       "      <td>Total - Presence of earner</td>\n",
       "      <td>1</td>\n",
       "      <td>NaN</td>\n",
       "      <td>$5,000 to $9,999</td>\n",
       "      <td>3</td>\n",
       "      <td>NaN</td>\n",
       "      <td>257870</td>\n",
       "      <td>245195</td>\n",
       "    </tr>\n",
       "    <tr>\n",
       "      <th>3</th>\n",
       "      <td>2016</td>\n",
       "      <td>1</td>\n",
       "      <td>0</td>\n",
       "      <td>Canada</td>\n",
       "      <td>4.0</td>\n",
       "      <td>20000</td>\n",
       "      <td>1</td>\n",
       "      <td>Total - Household living arrangements for pers...</td>\n",
       "      <td>1</td>\n",
       "      <td>NaN</td>\n",
       "      <td>...</td>\n",
       "      <td>1</td>\n",
       "      <td>NaN</td>\n",
       "      <td>Total - Presence of earner</td>\n",
       "      <td>1</td>\n",
       "      <td>NaN</td>\n",
       "      <td>$10,000 to $14,999</td>\n",
       "      <td>4</td>\n",
       "      <td>NaN</td>\n",
       "      <td>450115</td>\n",
       "      <td>377985</td>\n",
       "    </tr>\n",
       "    <tr>\n",
       "      <th>4</th>\n",
       "      <td>2016</td>\n",
       "      <td>1</td>\n",
       "      <td>0</td>\n",
       "      <td>Canada</td>\n",
       "      <td>4.0</td>\n",
       "      <td>20000</td>\n",
       "      <td>1</td>\n",
       "      <td>Total - Household living arrangements for pers...</td>\n",
       "      <td>1</td>\n",
       "      <td>NaN</td>\n",
       "      <td>...</td>\n",
       "      <td>1</td>\n",
       "      <td>NaN</td>\n",
       "      <td>Total - Presence of earner</td>\n",
       "      <td>1</td>\n",
       "      <td>NaN</td>\n",
       "      <td>$15,000 to $19,999</td>\n",
       "      <td>5</td>\n",
       "      <td>NaN</td>\n",
       "      <td>617555</td>\n",
       "      <td>587035</td>\n",
       "    </tr>\n",
       "  </tbody>\n",
       "</table>\n",
       "<p>5 rows × 24 columns</p>\n",
       "</div>"
      ],
      "text/plain": [
       "   CENSUS_YEAR  GEO_CODE (POR)  GEO_LEVEL GEO_NAME  GNR  DATA_QUALITY_FLAG  \\\n",
       "0         2016               1          0   Canada  4.0              20000   \n",
       "1         2016               1          0   Canada  4.0              20000   \n",
       "2         2016               1          0   Canada  4.0              20000   \n",
       "3         2016               1          0   Canada  4.0              20000   \n",
       "4         2016               1          0   Canada  4.0              20000   \n",
       "\n",
       "   ALT_GEO_CODE  \\\n",
       "0             1   \n",
       "1             1   \n",
       "2             1   \n",
       "3             1   \n",
       "4             1   \n",
       "\n",
       "  DIM: Household living arrangements for persons not in economic families (3)  \\\n",
       "0  Total - Household living arrangements for pers...                            \n",
       "1  Total - Household living arrangements for pers...                            \n",
       "2  Total - Household living arrangements for pers...                            \n",
       "3  Total - Household living arrangements for pers...                            \n",
       "4  Total - Household living arrangements for pers...                            \n",
       "\n",
       "   Member ID: Household living arrangements for persons not in economic families (3)  \\\n",
       "0                                                  1                                   \n",
       "1                                                  1                                   \n",
       "2                                                  1                                   \n",
       "3                                                  1                                   \n",
       "4                                                  1                                   \n",
       "\n",
       "   Notes: Household living arrangements for persons not in economic families (3)  \\\n",
       "0                                                NaN                               \n",
       "1                                                NaN                               \n",
       "2                                                NaN                               \n",
       "3                                                NaN                               \n",
       "4                                                NaN                               \n",
       "\n",
       "   ... Member ID: Sex (3)  Notes: Sex (3)  DIM: Presence of earner (3)  \\\n",
       "0  ...                  1             NaN   Total - Presence of earner   \n",
       "1  ...                  1             NaN   Total - Presence of earner   \n",
       "2  ...                  1             NaN   Total - Presence of earner   \n",
       "3  ...                  1             NaN   Total - Presence of earner   \n",
       "4  ...                  1             NaN   Total - Presence of earner   \n",
       "\n",
       "  Member ID: Presence of earner (3)  Notes: Presence of earner (3)  \\\n",
       "0                                 1                            NaN   \n",
       "1                                 1                            NaN   \n",
       "2                                 1                            NaN   \n",
       "3                                 1                            NaN   \n",
       "4                                 1                            NaN   \n",
       "\n",
       "   DIM: After-tax income groups (18) Member ID: After-tax income groups (18)  \\\n",
       "0           Total - After-tax income                                       1   \n",
       "1                       Under $5,000                                       2   \n",
       "2                   $5,000 to $9,999                                       3   \n",
       "3                 $10,000 to $14,999                                       4   \n",
       "4                 $15,000 to $19,999                                       5   \n",
       "\n",
       "   Notes: After-tax income groups (18)  \\\n",
       "0                                  NaN   \n",
       "1                                  NaN   \n",
       "2                                  NaN   \n",
       "3                                  NaN   \n",
       "4                                  NaN   \n",
       "\n",
       "   Dim: Year (2): Member ID: [1]: 2015 (Note: 2)  \\\n",
       "0                                        5313545   \n",
       "1                                         315875   \n",
       "2                                         257870   \n",
       "3                                         450115   \n",
       "4                                         617555   \n",
       "\n",
       "  Dim: Year (2): Member ID: [2]: 2005 (Note: 3)  \n",
       "0                                       4307135  \n",
       "1                                        282555  \n",
       "2                                        245195  \n",
       "3                                        377985  \n",
       "4                                        587035  \n",
       "\n",
       "[5 rows x 24 columns]"
      ]
     },
     "execution_count": 8,
     "metadata": {},
     "output_type": "execute_result"
    }
   ],
   "source": [
    "income_df.head()"
   ]
  },
  {
   "cell_type": "code",
   "execution_count": 9,
   "id": "89af2919",
   "metadata": {},
   "outputs": [],
   "source": [
    "income_geo_df = pd.read_csv(\"../Geo_starting_row_CSV_income.csv\")"
   ]
  },
  {
   "cell_type": "code",
   "execution_count": 10,
   "id": "0a0b3d68",
   "metadata": {},
   "outputs": [
    {
     "data": {
      "text/html": [
       "<div>\n",
       "<style scoped>\n",
       "    .dataframe tbody tr th:only-of-type {\n",
       "        vertical-align: middle;\n",
       "    }\n",
       "\n",
       "    .dataframe tbody tr th {\n",
       "        vertical-align: top;\n",
       "    }\n",
       "\n",
       "    .dataframe thead th {\n",
       "        text-align: right;\n",
       "    }\n",
       "</style>\n",
       "<table border=\"1\" class=\"dataframe\">\n",
       "  <thead>\n",
       "    <tr style=\"text-align: right;\">\n",
       "      <th></th>\n",
       "      <th>Geo Code</th>\n",
       "      <th>Geo Name</th>\n",
       "      <th>Line Number</th>\n",
       "    </tr>\n",
       "  </thead>\n",
       "  <tbody>\n",
       "    <tr>\n",
       "      <th>0</th>\n",
       "      <td>1</td>\n",
       "      <td>Canada</td>\n",
       "      <td>2</td>\n",
       "    </tr>\n",
       "    <tr>\n",
       "      <th>1</th>\n",
       "      <td>10</td>\n",
       "      <td>Newfoundland and Labrador</td>\n",
       "      <td>4376</td>\n",
       "    </tr>\n",
       "    <tr>\n",
       "      <th>2</th>\n",
       "      <td>10001</td>\n",
       "      <td>St. John's</td>\n",
       "      <td>8750</td>\n",
       "    </tr>\n",
       "    <tr>\n",
       "      <th>3</th>\n",
       "      <td>10005</td>\n",
       "      <td>Bay Roberts</td>\n",
       "      <td>13124</td>\n",
       "    </tr>\n",
       "    <tr>\n",
       "      <th>4</th>\n",
       "      <td>10010</td>\n",
       "      <td>Grand Falls-Windsor</td>\n",
       "      <td>17498</td>\n",
       "    </tr>\n",
       "  </tbody>\n",
       "</table>\n",
       "</div>"
      ],
      "text/plain": [
       "   Geo Code                   Geo Name  Line Number\n",
       "0         1                     Canada            2\n",
       "1        10  Newfoundland and Labrador         4376\n",
       "2     10001                 St. John's         8750\n",
       "3     10005                Bay Roberts        13124\n",
       "4     10010        Grand Falls-Windsor        17498"
      ]
     },
     "execution_count": 10,
     "metadata": {},
     "output_type": "execute_result"
    }
   ],
   "source": [
    "income_geo_df.head()"
   ]
  },
  {
   "cell_type": "markdown",
   "id": "8fe08cc0",
   "metadata": {},
   "source": [
    "## Analysis of Datasets"
   ]
  },
  {
   "cell_type": "markdown",
   "id": "18823eda",
   "metadata": {},
   "source": [
    "### Dataset 1: Aboriginal Peoples"
   ]
  },
  {
   "cell_type": "code",
   "execution_count": 11,
   "id": "373be661",
   "metadata": {},
   "outputs": [
    {
     "data": {
      "text/html": [
       "<div>\n",
       "<style scoped>\n",
       "    .dataframe tbody tr th:only-of-type {\n",
       "        vertical-align: middle;\n",
       "    }\n",
       "\n",
       "    .dataframe tbody tr th {\n",
       "        vertical-align: top;\n",
       "    }\n",
       "\n",
       "    .dataframe thead th {\n",
       "        text-align: right;\n",
       "    }\n",
       "</style>\n",
       "<table border=\"1\" class=\"dataframe\">\n",
       "  <thead>\n",
       "    <tr style=\"text-align: right;\">\n",
       "      <th></th>\n",
       "      <th>CENSUS_YEAR</th>\n",
       "      <th>GEO_CODE (POR)</th>\n",
       "      <th>GEO_LEVEL</th>\n",
       "      <th>GNR</th>\n",
       "      <th>DATA_QUALITY_FLAG</th>\n",
       "      <th>ALT_GEO_CODE</th>\n",
       "      <th>Member ID: Registered or Treaty Indian status (3)</th>\n",
       "      <th>Notes: Registered or Treaty Indian status (3)</th>\n",
       "      <th>Member ID: Age (9)</th>\n",
       "      <th>Notes: Age (9)</th>\n",
       "      <th>Member ID: Sex (3)</th>\n",
       "      <th>Notes: Sex (3)</th>\n",
       "      <th>Member ID: Income statistics (17)</th>\n",
       "      <th>Notes: Income statistics (17)</th>\n",
       "    </tr>\n",
       "  </thead>\n",
       "  <tbody>\n",
       "    <tr>\n",
       "      <th>count</th>\n",
       "      <td>239598.0</td>\n",
       "      <td>239598.000000</td>\n",
       "      <td>239598.000000</td>\n",
       "      <td>239598.000000</td>\n",
       "      <td>239598.000000</td>\n",
       "      <td>2.395980e+05</td>\n",
       "      <td>239598.000000</td>\n",
       "      <td>159732.000000</td>\n",
       "      <td>239598.000000</td>\n",
       "      <td>0.0</td>\n",
       "      <td>239598.000000</td>\n",
       "      <td>0.0</td>\n",
       "      <td>239598.00000</td>\n",
       "      <td>14094.0</td>\n",
       "    </tr>\n",
       "    <tr>\n",
       "      <th>mean</th>\n",
       "      <td>2016.0</td>\n",
       "      <td>1990.431034</td>\n",
       "      <td>1.959770</td>\n",
       "      <td>5.487356</td>\n",
       "      <td>1056.143678</td>\n",
       "      <td>1.861588e+05</td>\n",
       "      <td>2.000000</td>\n",
       "      <td>1.500000</td>\n",
       "      <td>5.000000</td>\n",
       "      <td>NaN</td>\n",
       "      <td>2.000000</td>\n",
       "      <td>NaN</td>\n",
       "      <td>9.00000</td>\n",
       "      <td>3.0</td>\n",
       "    </tr>\n",
       "    <tr>\n",
       "      <th>std</th>\n",
       "      <td>0.0</td>\n",
       "      <td>7005.784989</td>\n",
       "      <td>0.376909</td>\n",
       "      <td>1.943446</td>\n",
       "      <td>4426.031753</td>\n",
       "      <td>7.424178e+05</td>\n",
       "      <td>0.816498</td>\n",
       "      <td>0.500002</td>\n",
       "      <td>2.581994</td>\n",
       "      <td>NaN</td>\n",
       "      <td>0.816498</td>\n",
       "      <td>NaN</td>\n",
       "      <td>4.89899</td>\n",
       "      <td>0.0</td>\n",
       "    </tr>\n",
       "    <tr>\n",
       "      <th>min</th>\n",
       "      <td>2016.0</td>\n",
       "      <td>1.000000</td>\n",
       "      <td>0.000000</td>\n",
       "      <td>2.600000</td>\n",
       "      <td>0.000000</td>\n",
       "      <td>1.000000e+00</td>\n",
       "      <td>1.000000</td>\n",
       "      <td>1.000000</td>\n",
       "      <td>1.000000</td>\n",
       "      <td>NaN</td>\n",
       "      <td>1.000000</td>\n",
       "      <td>NaN</td>\n",
       "      <td>1.00000</td>\n",
       "      <td>3.0</td>\n",
       "    </tr>\n",
       "    <tr>\n",
       "      <th>25%</th>\n",
       "      <td>2016.0</td>\n",
       "      <td>428.000000</td>\n",
       "      <td>2.000000</td>\n",
       "      <td>4.400000</td>\n",
       "      <td>0.000000</td>\n",
       "      <td>2.442800e+04</td>\n",
       "      <td>1.000000</td>\n",
       "      <td>1.000000</td>\n",
       "      <td>3.000000</td>\n",
       "      <td>NaN</td>\n",
       "      <td>1.000000</td>\n",
       "      <td>NaN</td>\n",
       "      <td>5.00000</td>\n",
       "      <td>3.0</td>\n",
       "    </tr>\n",
       "    <tr>\n",
       "      <th>50%</th>\n",
       "      <td>2016.0</td>\n",
       "      <td>554.000000</td>\n",
       "      <td>2.000000</td>\n",
       "      <td>5.000000</td>\n",
       "      <td>0.000000</td>\n",
       "      <td>3.555400e+04</td>\n",
       "      <td>2.000000</td>\n",
       "      <td>1.500000</td>\n",
       "      <td>5.000000</td>\n",
       "      <td>NaN</td>\n",
       "      <td>2.000000</td>\n",
       "      <td>NaN</td>\n",
       "      <td>9.00000</td>\n",
       "      <td>3.0</td>\n",
       "    </tr>\n",
       "    <tr>\n",
       "      <th>75%</th>\n",
       "      <td>2016.0</td>\n",
       "      <td>832.000000</td>\n",
       "      <td>2.000000</td>\n",
       "      <td>6.000000</td>\n",
       "      <td>0.000000</td>\n",
       "      <td>4.883200e+04</td>\n",
       "      <td>3.000000</td>\n",
       "      <td>2.000000</td>\n",
       "      <td>7.000000</td>\n",
       "      <td>NaN</td>\n",
       "      <td>3.000000</td>\n",
       "      <td>NaN</td>\n",
       "      <td>13.00000</td>\n",
       "      <td>3.0</td>\n",
       "    </tr>\n",
       "    <tr>\n",
       "      <th>max</th>\n",
       "      <td>2016.0</td>\n",
       "      <td>48840.000000</td>\n",
       "      <td>3.000000</td>\n",
       "      <td>20.700000</td>\n",
       "      <td>20001.000000</td>\n",
       "      <td>4.884048e+06</td>\n",
       "      <td>3.000000</td>\n",
       "      <td>2.000000</td>\n",
       "      <td>9.000000</td>\n",
       "      <td>NaN</td>\n",
       "      <td>3.000000</td>\n",
       "      <td>NaN</td>\n",
       "      <td>17.00000</td>\n",
       "      <td>3.0</td>\n",
       "    </tr>\n",
       "  </tbody>\n",
       "</table>\n",
       "</div>"
      ],
      "text/plain": [
       "       CENSUS_YEAR  GEO_CODE (POR)      GEO_LEVEL            GNR  \\\n",
       "count     239598.0   239598.000000  239598.000000  239598.000000   \n",
       "mean        2016.0     1990.431034       1.959770       5.487356   \n",
       "std            0.0     7005.784989       0.376909       1.943446   \n",
       "min         2016.0        1.000000       0.000000       2.600000   \n",
       "25%         2016.0      428.000000       2.000000       4.400000   \n",
       "50%         2016.0      554.000000       2.000000       5.000000   \n",
       "75%         2016.0      832.000000       2.000000       6.000000   \n",
       "max         2016.0    48840.000000       3.000000      20.700000   \n",
       "\n",
       "       DATA_QUALITY_FLAG  ALT_GEO_CODE  \\\n",
       "count      239598.000000  2.395980e+05   \n",
       "mean         1056.143678  1.861588e+05   \n",
       "std          4426.031753  7.424178e+05   \n",
       "min             0.000000  1.000000e+00   \n",
       "25%             0.000000  2.442800e+04   \n",
       "50%             0.000000  3.555400e+04   \n",
       "75%             0.000000  4.883200e+04   \n",
       "max         20001.000000  4.884048e+06   \n",
       "\n",
       "       Member ID: Registered or Treaty Indian status (3)  \\\n",
       "count                                      239598.000000   \n",
       "mean                                            2.000000   \n",
       "std                                             0.816498   \n",
       "min                                             1.000000   \n",
       "25%                                             1.000000   \n",
       "50%                                             2.000000   \n",
       "75%                                             3.000000   \n",
       "max                                             3.000000   \n",
       "\n",
       "       Notes: Registered or Treaty Indian status (3)  Member ID: Age (9)  \\\n",
       "count                                  159732.000000       239598.000000   \n",
       "mean                                        1.500000            5.000000   \n",
       "std                                         0.500002            2.581994   \n",
       "min                                         1.000000            1.000000   \n",
       "25%                                         1.000000            3.000000   \n",
       "50%                                         1.500000            5.000000   \n",
       "75%                                         2.000000            7.000000   \n",
       "max                                         2.000000            9.000000   \n",
       "\n",
       "       Notes: Age (9)  Member ID: Sex (3)  Notes: Sex (3)  \\\n",
       "count             0.0       239598.000000             0.0   \n",
       "mean              NaN            2.000000             NaN   \n",
       "std               NaN            0.816498             NaN   \n",
       "min               NaN            1.000000             NaN   \n",
       "25%               NaN            1.000000             NaN   \n",
       "50%               NaN            2.000000             NaN   \n",
       "75%               NaN            3.000000             NaN   \n",
       "max               NaN            3.000000             NaN   \n",
       "\n",
       "       Member ID: Income statistics (17)  Notes: Income statistics (17)  \n",
       "count                       239598.00000                        14094.0  \n",
       "mean                             9.00000                            3.0  \n",
       "std                              4.89899                            0.0  \n",
       "min                              1.00000                            3.0  \n",
       "25%                              5.00000                            3.0  \n",
       "50%                              9.00000                            3.0  \n",
       "75%                             13.00000                            3.0  \n",
       "max                             17.00000                            3.0  "
      ]
     },
     "execution_count": 11,
     "metadata": {},
     "output_type": "execute_result"
    }
   ],
   "source": [
    "aboriginal_people_df.describe()"
   ]
  },
  {
   "cell_type": "code",
   "execution_count": 18,
   "id": "f322da26",
   "metadata": {},
   "outputs": [
    {
     "data": {
      "text/plain": [
       "CENSUS_YEAR                                                                                            0\n",
       "GEO_CODE (POR)                                                                                         0\n",
       "GEO_LEVEL                                                                                              0\n",
       "GEO_NAME                                                                                               0\n",
       "GNR                                                                                                    0\n",
       "DATA_QUALITY_FLAG                                                                                      0\n",
       "ALT_GEO_CODE                                                                                           0\n",
       "DIM: Registered or Treaty Indian status (3)                                                            0\n",
       "Member ID: Registered or Treaty Indian status (3)                                                      0\n",
       "Notes: Registered or Treaty Indian status (3)                                                          0\n",
       "DIM: Age (9)                                                                                           0\n",
       "Member ID: Age (9)                                                                                     0\n",
       "Notes: Age (9)                                                                                         0\n",
       "DIM: Sex (3)                                                                                           0\n",
       "Member ID: Sex (3)                                                                                     0\n",
       "Notes: Sex (3)                                                                                         0\n",
       "DIM: Income statistics (17)                                                                            0\n",
       "Member ID: Income statistics (17)                                                                      0\n",
       "Notes: Income statistics (17)                                                                          0\n",
       "Dim: Aboriginal identity (9): Member ID: [1]: Total - Aboriginal identity (Note: 4)                    0\n",
       "Dim: Aboriginal identity (9): Member ID: [2]: Aboriginal identity (Note: 5)                            0\n",
       "Dim: Aboriginal identity (9): Member ID: [3]: Single Aboriginal responses (Note: 6)                    0\n",
       "Dim: Aboriginal identity (9): Member ID: [4]: First Nations (North American Indian) (Note: 7)          0\n",
       "Dim: Aboriginal identity (9): Member ID: [5]: Métis                                                    0\n",
       "Dim: Aboriginal identity (9): Member ID: [6]: Inuk (Inuit)                                             0\n",
       "Dim: Aboriginal identity (9): Member ID: [7]: Multiple Aboriginal responses (Note: 8)                  0\n",
       "Dim: Aboriginal identity (9): Member ID: [8]: Aboriginal responses not included elsewhere (Note: 9)    0\n",
       "Dim: Aboriginal identity (9): Member ID: [9]: Non-Aboriginal identity                                  0\n",
       "dtype: int64"
      ]
     },
     "execution_count": 18,
     "metadata": {},
     "output_type": "execute_result"
    }
   ],
   "source": [
    "# Checking blank values\n",
    "aboriginal_people_df[aboriginal_people_df == ' '].count()"
   ]
  },
  {
   "cell_type": "code",
   "execution_count": 17,
   "id": "42b04b5c",
   "metadata": {},
   "outputs": [
    {
     "data": {
      "text/plain": [
       "CENSUS_YEAR                                                                                                 0\n",
       "GEO_CODE (POR)                                                                                              0\n",
       "GEO_LEVEL                                                                                                   0\n",
       "GEO_NAME                                                                                                    0\n",
       "GNR                                                                                                         0\n",
       "DATA_QUALITY_FLAG                                                                                           0\n",
       "ALT_GEO_CODE                                                                                                0\n",
       "DIM: Registered or Treaty Indian status (3)                                                                 0\n",
       "Member ID: Registered or Treaty Indian status (3)                                                           0\n",
       "Notes: Registered or Treaty Indian status (3)                                                           79866\n",
       "DIM: Age (9)                                                                                                0\n",
       "Member ID: Age (9)                                                                                          0\n",
       "Notes: Age (9)                                                                                         239598\n",
       "DIM: Sex (3)                                                                                                0\n",
       "Member ID: Sex (3)                                                                                          0\n",
       "Notes: Sex (3)                                                                                         239598\n",
       "DIM: Income statistics (17)                                                                                 0\n",
       "Member ID: Income statistics (17)                                                                           0\n",
       "Notes: Income statistics (17)                                                                          225504\n",
       "Dim: Aboriginal identity (9): Member ID: [1]: Total - Aboriginal identity (Note: 4)                         0\n",
       "Dim: Aboriginal identity (9): Member ID: [2]: Aboriginal identity (Note: 5)                                 0\n",
       "Dim: Aboriginal identity (9): Member ID: [3]: Single Aboriginal responses (Note: 6)                         0\n",
       "Dim: Aboriginal identity (9): Member ID: [4]: First Nations (North American Indian) (Note: 7)               0\n",
       "Dim: Aboriginal identity (9): Member ID: [5]: Métis                                                         0\n",
       "Dim: Aboriginal identity (9): Member ID: [6]: Inuk (Inuit)                                                  0\n",
       "Dim: Aboriginal identity (9): Member ID: [7]: Multiple Aboriginal responses (Note: 8)                       0\n",
       "Dim: Aboriginal identity (9): Member ID: [8]: Aboriginal responses not included elsewhere (Note: 9)         0\n",
       "Dim: Aboriginal identity (9): Member ID: [9]: Non-Aboriginal identity                                       0\n",
       "dtype: int64"
      ]
     },
     "execution_count": 17,
     "metadata": {},
     "output_type": "execute_result"
    }
   ],
   "source": [
    "# Checking any blank or null values\n",
    "# aboriginal_people.isnull().values.any()\n",
    "aboriginal_people_df.isnull().sum()"
   ]
  },
  {
   "cell_type": "code",
   "execution_count": 19,
   "id": "4e54d919",
   "metadata": {},
   "outputs": [
    {
     "data": {
      "text/plain": [
       "CENSUS_YEAR                                                                                            0.0\n",
       "GEO_CODE (POR)                                                                                         0.0\n",
       "GEO_LEVEL                                                                                              0.0\n",
       "GEO_NAME                                                                                                 0\n",
       "GNR                                                                                                    0.0\n",
       "DATA_QUALITY_FLAG                                                                                      0.0\n",
       "ALT_GEO_CODE                                                                                           0.0\n",
       "DIM: Registered or Treaty Indian status (3)                                                              0\n",
       "Member ID: Registered or Treaty Indian status (3)                                                      0.0\n",
       "Notes: Registered or Treaty Indian status (3)                                                          0.0\n",
       "DIM: Age (9)                                                                                             0\n",
       "Member ID: Age (9)                                                                                     0.0\n",
       "Notes: Age (9)                                                                                         0.0\n",
       "DIM: Sex (3)                                                                                             0\n",
       "Member ID: Sex (3)                                                                                     0.0\n",
       "Notes: Sex (3)                                                                                         0.0\n",
       "DIM: Income statistics (17)                                                                              0\n",
       "Member ID: Income statistics (17)                                                                      0.0\n",
       "Notes: Income statistics (17)                                                                          0.0\n",
       "Dim: Aboriginal identity (9): Member ID: [1]: Total - Aboriginal identity (Note: 4)                      0\n",
       "Dim: Aboriginal identity (9): Member ID: [2]: Aboriginal identity (Note: 5)                              0\n",
       "Dim: Aboriginal identity (9): Member ID: [3]: Single Aboriginal responses (Note: 6)                      0\n",
       "Dim: Aboriginal identity (9): Member ID: [4]: First Nations (North American Indian) (Note: 7)            0\n",
       "Dim: Aboriginal identity (9): Member ID: [5]: Métis                                                      0\n",
       "Dim: Aboriginal identity (9): Member ID: [6]: Inuk (Inuit)                                               0\n",
       "Dim: Aboriginal identity (9): Member ID: [7]: Multiple Aboriginal responses (Note: 8)                    0\n",
       "Dim: Aboriginal identity (9): Member ID: [8]: Aboriginal responses not included elsewhere (Note: 9)      0\n",
       "Dim: Aboriginal identity (9): Member ID: [9]: Non-Aboriginal identity                                    0\n",
       "dtype: object"
      ]
     },
     "execution_count": 19,
     "metadata": {},
     "output_type": "execute_result"
    }
   ],
   "source": [
    "aboriginal_people_df[aboriginal_people_df == 'x'].sum()"
   ]
  },
  {
   "cell_type": "code",
   "execution_count": 20,
   "id": "d1bc683e",
   "metadata": {},
   "outputs": [
    {
     "data": {
      "text/plain": [
       "CENSUS_YEAR                                                                                            0.0\n",
       "GEO_CODE (POR)                                                                                         0.0\n",
       "GEO_LEVEL                                                                                              0.0\n",
       "GEO_NAME                                                                                                 0\n",
       "GNR                                                                                                    0.0\n",
       "DATA_QUALITY_FLAG                                                                                      0.0\n",
       "ALT_GEO_CODE                                                                                           0.0\n",
       "DIM: Registered or Treaty Indian status (3)                                                              0\n",
       "Member ID: Registered or Treaty Indian status (3)                                                      0.0\n",
       "Notes: Registered or Treaty Indian status (3)                                                          0.0\n",
       "DIM: Age (9)                                                                                             0\n",
       "Member ID: Age (9)                                                                                     0.0\n",
       "Notes: Age (9)                                                                                         0.0\n",
       "DIM: Sex (3)                                                                                             0\n",
       "Member ID: Sex (3)                                                                                     0.0\n",
       "Notes: Sex (3)                                                                                         0.0\n",
       "DIM: Income statistics (17)                                                                              0\n",
       "Member ID: Income statistics (17)                                                                      0.0\n",
       "Notes: Income statistics (17)                                                                          0.0\n",
       "Dim: Aboriginal identity (9): Member ID: [1]: Total - Aboriginal identity (Note: 4)                      0\n",
       "Dim: Aboriginal identity (9): Member ID: [2]: Aboriginal identity (Note: 5)                              0\n",
       "Dim: Aboriginal identity (9): Member ID: [3]: Single Aboriginal responses (Note: 6)                      0\n",
       "Dim: Aboriginal identity (9): Member ID: [4]: First Nations (North American Indian) (Note: 7)            0\n",
       "Dim: Aboriginal identity (9): Member ID: [5]: Métis                                                      0\n",
       "Dim: Aboriginal identity (9): Member ID: [6]: Inuk (Inuit)                                               0\n",
       "Dim: Aboriginal identity (9): Member ID: [7]: Multiple Aboriginal responses (Note: 8)                    0\n",
       "Dim: Aboriginal identity (9): Member ID: [8]: Aboriginal responses not included elsewhere (Note: 9)      0\n",
       "Dim: Aboriginal identity (9): Member ID: [9]: Non-Aboriginal identity                                    0\n",
       "dtype: object"
      ]
     },
     "execution_count": 20,
     "metadata": {},
     "output_type": "execute_result"
    }
   ],
   "source": [
    "aboriginal_people_df[aboriginal_people_df == 'F'].sum()\n",
    "# aboriginal_people[aboriginal_people == '..'].sum()"
   ]
  },
  {
   "cell_type": "code",
   "execution_count": 21,
   "id": "0fd833cb",
   "metadata": {
    "scrolled": true
   },
   "outputs": [
    {
     "data": {
      "text/plain": [
       "CENSUS_YEAR                                                                                            0\n",
       "GEO_CODE (POR)                                                                                         0\n",
       "GEO_LEVEL                                                                                              0\n",
       "GEO_NAME                                                                                               0\n",
       "GNR                                                                                                    0\n",
       "DATA_QUALITY_FLAG                                                                                      0\n",
       "ALT_GEO_CODE                                                                                           0\n",
       "DIM: Registered or Treaty Indian status (3)                                                            0\n",
       "Member ID: Registered or Treaty Indian status (3)                                                      0\n",
       "Notes: Registered or Treaty Indian status (3)                                                          0\n",
       "DIM: Age (9)                                                                                           0\n",
       "Member ID: Age (9)                                                                                     0\n",
       "Notes: Age (9)                                                                                         0\n",
       "DIM: Sex (3)                                                                                           0\n",
       "Member ID: Sex (3)                                                                                     0\n",
       "Notes: Sex (3)                                                                                         0\n",
       "DIM: Income statistics (17)                                                                            0\n",
       "Member ID: Income statistics (17)                                                                      0\n",
       "Notes: Income statistics (17)                                                                          0\n",
       "Dim: Aboriginal identity (9): Member ID: [1]: Total - Aboriginal identity (Note: 4)                    0\n",
       "Dim: Aboriginal identity (9): Member ID: [2]: Aboriginal identity (Note: 5)                            0\n",
       "Dim: Aboriginal identity (9): Member ID: [3]: Single Aboriginal responses (Note: 6)                    0\n",
       "Dim: Aboriginal identity (9): Member ID: [4]: First Nations (North American Indian) (Note: 7)          0\n",
       "Dim: Aboriginal identity (9): Member ID: [5]: Métis                                                    0\n",
       "Dim: Aboriginal identity (9): Member ID: [6]: Inuk (Inuit)                                             0\n",
       "Dim: Aboriginal identity (9): Member ID: [7]: Multiple Aboriginal responses (Note: 8)                  0\n",
       "Dim: Aboriginal identity (9): Member ID: [8]: Aboriginal responses not included elsewhere (Note: 9)    0\n",
       "Dim: Aboriginal identity (9): Member ID: [9]: Non-Aboriginal identity                                  0\n",
       "dtype: int64"
      ]
     },
     "execution_count": 21,
     "metadata": {},
     "output_type": "execute_result"
    }
   ],
   "source": [
    "aboriginal_people_df[aboriginal_people_df == '..'].count()"
   ]
  },
  {
   "cell_type": "code",
   "execution_count": null,
   "id": "74fbe2ad",
   "metadata": {},
   "outputs": [],
   "source": [
    "# (aboriginal_people_df == '..').sum()"
   ]
  },
  {
   "cell_type": "code",
   "execution_count": 22,
   "id": "f657b650",
   "metadata": {},
   "outputs": [
    {
     "data": {
      "text/plain": [
       "Dim: Aboriginal identity (9): Member ID: [6]: Inuk (Inuit)                                             38900\n",
       "Dim: Aboriginal identity (9): Member ID: [7]: Multiple Aboriginal responses (Note: 8)                  33992\n",
       "Dim: Aboriginal identity (9): Member ID: [8]: Aboriginal responses not included elsewhere (Note: 9)    33568\n",
       "Dim: Aboriginal identity (9): Member ID: [9]: Non-Aboriginal identity                                  18792\n",
       "Dim: Aboriginal identity (9): Member ID: [5]: Métis                                                     7484\n",
       "Dim: Aboriginal identity (9): Member ID: [4]: First Nations (North American Indian) (Note: 7)           4604\n",
       "Dim: Aboriginal identity (9): Member ID: [3]: Single Aboriginal responses (Note: 6)                     1892\n",
       "Dim: Aboriginal identity (9): Member ID: [2]: Aboriginal identity (Note: 5)                             1668\n",
       "Dim: Aboriginal identity (9): Member ID: [1]: Total - Aboriginal identity (Note: 4)                     1132\n",
       "GEO_CODE (POR)                                                                                             0\n",
       "Notes: Income statistics (17)                                                                              0\n",
       "Member ID: Income statistics (17)                                                                          0\n",
       "DIM: Income statistics (17)                                                                                0\n",
       "Notes: Sex (3)                                                                                             0\n",
       "CENSUS_YEAR                                                                                                0\n",
       "DIM: Sex (3)                                                                                               0\n",
       "Notes: Age (9)                                                                                             0\n",
       "Member ID: Age (9)                                                                                         0\n",
       "DIM: Age (9)                                                                                               0\n",
       "Notes: Registered or Treaty Indian status (3)                                                              0\n",
       "Member ID: Registered or Treaty Indian status (3)                                                          0\n",
       "DIM: Registered or Treaty Indian status (3)                                                                0\n",
       "ALT_GEO_CODE                                                                                               0\n",
       "DATA_QUALITY_FLAG                                                                                          0\n",
       "GNR                                                                                                        0\n",
       "GEO_NAME                                                                                                   0\n",
       "GEO_LEVEL                                                                                                  0\n",
       "Member ID: Sex (3)                                                                                         0\n",
       "dtype: int64"
      ]
     },
     "execution_count": 22,
     "metadata": {},
     "output_type": "execute_result"
    }
   ],
   "source": [
    "(aboriginal_people_df == '...').sum().sort_values(ascending = False)"
   ]
  },
  {
   "cell_type": "markdown",
   "id": "b3f189d9",
   "metadata": {},
   "source": [
    "#### ~16% of data for Inuit is Not Applicable"
   ]
  },
  {
   "cell_type": "code",
   "execution_count": 23,
   "id": "5cb626de",
   "metadata": {},
   "outputs": [
    {
     "data": {
      "text/plain": [
       "CENSUS_YEAR                                                                                            239598\n",
       "GEO_CODE (POR)                                                                                         239598\n",
       "GEO_LEVEL                                                                                              239598\n",
       "GEO_NAME                                                                                               239598\n",
       "GNR                                                                                                    239598\n",
       "DATA_QUALITY_FLAG                                                                                      239598\n",
       "ALT_GEO_CODE                                                                                           239598\n",
       "DIM: Registered or Treaty Indian status (3)                                                            239598\n",
       "Member ID: Registered or Treaty Indian status (3)                                                      239598\n",
       "Notes: Registered or Treaty Indian status (3)                                                          159732\n",
       "DIM: Age (9)                                                                                           239598\n",
       "Member ID: Age (9)                                                                                     239598\n",
       "Notes: Age (9)                                                                                              0\n",
       "DIM: Sex (3)                                                                                           239598\n",
       "Member ID: Sex (3)                                                                                     239598\n",
       "Notes: Sex (3)                                                                                              0\n",
       "DIM: Income statistics (17)                                                                            239598\n",
       "Member ID: Income statistics (17)                                                                      239598\n",
       "Notes: Income statistics (17)                                                                           14094\n",
       "Dim: Aboriginal identity (9): Member ID: [1]: Total - Aboriginal identity (Note: 4)                    239598\n",
       "Dim: Aboriginal identity (9): Member ID: [2]: Aboriginal identity (Note: 5)                            239598\n",
       "Dim: Aboriginal identity (9): Member ID: [3]: Single Aboriginal responses (Note: 6)                    239598\n",
       "Dim: Aboriginal identity (9): Member ID: [4]: First Nations (North American Indian) (Note: 7)          239598\n",
       "Dim: Aboriginal identity (9): Member ID: [5]: Métis                                                    239598\n",
       "Dim: Aboriginal identity (9): Member ID: [6]: Inuk (Inuit)                                             239598\n",
       "Dim: Aboriginal identity (9): Member ID: [7]: Multiple Aboriginal responses (Note: 8)                  239598\n",
       "Dim: Aboriginal identity (9): Member ID: [8]: Aboriginal responses not included elsewhere (Note: 9)    239598\n",
       "Dim: Aboriginal identity (9): Member ID: [9]: Non-Aboriginal identity                                  239598\n",
       "dtype: int64"
      ]
     },
     "execution_count": 23,
     "metadata": {},
     "output_type": "execute_result"
    }
   ],
   "source": [
    "aboriginal_people_df.count()"
   ]
  },
  {
   "cell_type": "markdown",
   "id": "e84c1307",
   "metadata": {},
   "source": [
    "### Dataset 2: Income"
   ]
  },
  {
   "cell_type": "code",
   "execution_count": 24,
   "id": "9246664f",
   "metadata": {},
   "outputs": [
    {
     "data": {
      "text/html": [
       "<div>\n",
       "<style scoped>\n",
       "    .dataframe tbody tr th:only-of-type {\n",
       "        vertical-align: middle;\n",
       "    }\n",
       "\n",
       "    .dataframe tbody tr th {\n",
       "        vertical-align: top;\n",
       "    }\n",
       "\n",
       "    .dataframe thead th {\n",
       "        text-align: right;\n",
       "    }\n",
       "</style>\n",
       "<table border=\"1\" class=\"dataframe\">\n",
       "  <thead>\n",
       "    <tr style=\"text-align: right;\">\n",
       "      <th></th>\n",
       "      <th>CENSUS_YEAR</th>\n",
       "      <th>GEO_CODE (POR)</th>\n",
       "      <th>GEO_LEVEL</th>\n",
       "      <th>GNR</th>\n",
       "      <th>DATA_QUALITY_FLAG</th>\n",
       "      <th>ALT_GEO_CODE</th>\n",
       "      <th>Member ID: Household living arrangements for persons not in economic families (3)</th>\n",
       "      <th>Notes: Household living arrangements for persons not in economic families (3)</th>\n",
       "      <th>Member ID: Age (9)</th>\n",
       "      <th>Notes: Age (9)</th>\n",
       "      <th>Member ID: Sex (3)</th>\n",
       "      <th>Notes: Sex (3)</th>\n",
       "      <th>Member ID: Presence of earner (3)</th>\n",
       "      <th>Notes: Presence of earner (3)</th>\n",
       "      <th>Member ID: After-tax income groups (18)</th>\n",
       "      <th>Notes: After-tax income groups (18)</th>\n",
       "      <th>Dim: Year (2): Member ID: [1]: 2015 (Note: 2)</th>\n",
       "      <th>Dim: Year (2): Member ID: [2]: 2005 (Note: 3)</th>\n",
       "    </tr>\n",
       "  </thead>\n",
       "  <tbody>\n",
       "    <tr>\n",
       "      <th>count</th>\n",
       "      <td>761076.0</td>\n",
       "      <td>761076.000000</td>\n",
       "      <td>761076.000000</td>\n",
       "      <td>761076.000000</td>\n",
       "      <td>761076.000000</td>\n",
       "      <td>7.610760e+05</td>\n",
       "      <td>761076.000000</td>\n",
       "      <td>0.0</td>\n",
       "      <td>761076.000000</td>\n",
       "      <td>0.0</td>\n",
       "      <td>761076.000000</td>\n",
       "      <td>0.0</td>\n",
       "      <td>761076.000000</td>\n",
       "      <td>0.0</td>\n",
       "      <td>761076.000000</td>\n",
       "      <td>42282.0</td>\n",
       "      <td>7.610760e+05</td>\n",
       "      <td>7.610760e+05</td>\n",
       "    </tr>\n",
       "    <tr>\n",
       "      <th>mean</th>\n",
       "      <td>2016.0</td>\n",
       "      <td>1990.431034</td>\n",
       "      <td>1.959770</td>\n",
       "      <td>4.589655</td>\n",
       "      <td>1055.747126</td>\n",
       "      <td>1.861588e+05</td>\n",
       "      <td>2.000000</td>\n",
       "      <td>NaN</td>\n",
       "      <td>5.000000</td>\n",
       "      <td>NaN</td>\n",
       "      <td>2.000000</td>\n",
       "      <td>NaN</td>\n",
       "      <td>2.000000</td>\n",
       "      <td>NaN</td>\n",
       "      <td>9.500000</td>\n",
       "      <td>1.0</td>\n",
       "      <td>2.376616e+03</td>\n",
       "      <td>2.050372e+03</td>\n",
       "    </tr>\n",
       "    <tr>\n",
       "      <th>std</th>\n",
       "      <td>0.0</td>\n",
       "      <td>7005.774972</td>\n",
       "      <td>0.376908</td>\n",
       "      <td>1.372224</td>\n",
       "      <td>4426.042141</td>\n",
       "      <td>7.424168e+05</td>\n",
       "      <td>0.816497</td>\n",
       "      <td>NaN</td>\n",
       "      <td>2.581991</td>\n",
       "      <td>NaN</td>\n",
       "      <td>0.816497</td>\n",
       "      <td>NaN</td>\n",
       "      <td>0.816497</td>\n",
       "      <td>NaN</td>\n",
       "      <td>5.188131</td>\n",
       "      <td>0.0</td>\n",
       "      <td>2.000843e+04</td>\n",
       "      <td>1.673855e+04</td>\n",
       "    </tr>\n",
       "    <tr>\n",
       "      <th>min</th>\n",
       "      <td>2016.0</td>\n",
       "      <td>1.000000</td>\n",
       "      <td>0.000000</td>\n",
       "      <td>2.800000</td>\n",
       "      <td>0.000000</td>\n",
       "      <td>1.000000e+00</td>\n",
       "      <td>1.000000</td>\n",
       "      <td>NaN</td>\n",
       "      <td>1.000000</td>\n",
       "      <td>NaN</td>\n",
       "      <td>1.000000</td>\n",
       "      <td>NaN</td>\n",
       "      <td>1.000000</td>\n",
       "      <td>NaN</td>\n",
       "      <td>1.000000</td>\n",
       "      <td>1.0</td>\n",
       "      <td>0.000000e+00</td>\n",
       "      <td>0.000000e+00</td>\n",
       "    </tr>\n",
       "    <tr>\n",
       "      <th>25%</th>\n",
       "      <td>2016.0</td>\n",
       "      <td>428.000000</td>\n",
       "      <td>2.000000</td>\n",
       "      <td>3.900000</td>\n",
       "      <td>0.000000</td>\n",
       "      <td>2.442800e+04</td>\n",
       "      <td>1.000000</td>\n",
       "      <td>NaN</td>\n",
       "      <td>3.000000</td>\n",
       "      <td>NaN</td>\n",
       "      <td>1.000000</td>\n",
       "      <td>NaN</td>\n",
       "      <td>1.000000</td>\n",
       "      <td>NaN</td>\n",
       "      <td>5.000000</td>\n",
       "      <td>1.0</td>\n",
       "      <td>5.000000e+00</td>\n",
       "      <td>0.000000e+00</td>\n",
       "    </tr>\n",
       "    <tr>\n",
       "      <th>50%</th>\n",
       "      <td>2016.0</td>\n",
       "      <td>554.000000</td>\n",
       "      <td>2.000000</td>\n",
       "      <td>4.400000</td>\n",
       "      <td>0.000000</td>\n",
       "      <td>3.555400e+04</td>\n",
       "      <td>2.000000</td>\n",
       "      <td>NaN</td>\n",
       "      <td>5.000000</td>\n",
       "      <td>NaN</td>\n",
       "      <td>2.000000</td>\n",
       "      <td>NaN</td>\n",
       "      <td>2.000000</td>\n",
       "      <td>NaN</td>\n",
       "      <td>9.500000</td>\n",
       "      <td>1.0</td>\n",
       "      <td>2.000000e+01</td>\n",
       "      <td>1.500000e+01</td>\n",
       "    </tr>\n",
       "    <tr>\n",
       "      <th>75%</th>\n",
       "      <td>2016.0</td>\n",
       "      <td>832.000000</td>\n",
       "      <td>2.000000</td>\n",
       "      <td>4.900000</td>\n",
       "      <td>0.000000</td>\n",
       "      <td>4.883200e+04</td>\n",
       "      <td>3.000000</td>\n",
       "      <td>NaN</td>\n",
       "      <td>7.000000</td>\n",
       "      <td>NaN</td>\n",
       "      <td>3.000000</td>\n",
       "      <td>NaN</td>\n",
       "      <td>3.000000</td>\n",
       "      <td>NaN</td>\n",
       "      <td>14.000000</td>\n",
       "      <td>1.0</td>\n",
       "      <td>1.400000e+02</td>\n",
       "      <td>1.100000e+02</td>\n",
       "    </tr>\n",
       "    <tr>\n",
       "      <th>max</th>\n",
       "      <td>2016.0</td>\n",
       "      <td>48840.000000</td>\n",
       "      <td>3.000000</td>\n",
       "      <td>14.300000</td>\n",
       "      <td>20000.000000</td>\n",
       "      <td>4.884048e+06</td>\n",
       "      <td>3.000000</td>\n",
       "      <td>NaN</td>\n",
       "      <td>9.000000</td>\n",
       "      <td>NaN</td>\n",
       "      <td>3.000000</td>\n",
       "      <td>NaN</td>\n",
       "      <td>3.000000</td>\n",
       "      <td>NaN</td>\n",
       "      <td>18.000000</td>\n",
       "      <td>1.0</td>\n",
       "      <td>5.313545e+06</td>\n",
       "      <td>4.307135e+06</td>\n",
       "    </tr>\n",
       "  </tbody>\n",
       "</table>\n",
       "</div>"
      ],
      "text/plain": [
       "       CENSUS_YEAR  GEO_CODE (POR)      GEO_LEVEL            GNR  \\\n",
       "count     761076.0   761076.000000  761076.000000  761076.000000   \n",
       "mean        2016.0     1990.431034       1.959770       4.589655   \n",
       "std            0.0     7005.774972       0.376908       1.372224   \n",
       "min         2016.0        1.000000       0.000000       2.800000   \n",
       "25%         2016.0      428.000000       2.000000       3.900000   \n",
       "50%         2016.0      554.000000       2.000000       4.400000   \n",
       "75%         2016.0      832.000000       2.000000       4.900000   \n",
       "max         2016.0    48840.000000       3.000000      14.300000   \n",
       "\n",
       "       DATA_QUALITY_FLAG  ALT_GEO_CODE  \\\n",
       "count      761076.000000  7.610760e+05   \n",
       "mean         1055.747126  1.861588e+05   \n",
       "std          4426.042141  7.424168e+05   \n",
       "min             0.000000  1.000000e+00   \n",
       "25%             0.000000  2.442800e+04   \n",
       "50%             0.000000  3.555400e+04   \n",
       "75%             0.000000  4.883200e+04   \n",
       "max         20000.000000  4.884048e+06   \n",
       "\n",
       "       Member ID: Household living arrangements for persons not in economic families (3)  \\\n",
       "count                                      761076.000000                                   \n",
       "mean                                            2.000000                                   \n",
       "std                                             0.816497                                   \n",
       "min                                             1.000000                                   \n",
       "25%                                             1.000000                                   \n",
       "50%                                             2.000000                                   \n",
       "75%                                             3.000000                                   \n",
       "max                                             3.000000                                   \n",
       "\n",
       "       Notes: Household living arrangements for persons not in economic families (3)  \\\n",
       "count                                                0.0                               \n",
       "mean                                                 NaN                               \n",
       "std                                                  NaN                               \n",
       "min                                                  NaN                               \n",
       "25%                                                  NaN                               \n",
       "50%                                                  NaN                               \n",
       "75%                                                  NaN                               \n",
       "max                                                  NaN                               \n",
       "\n",
       "       Member ID: Age (9)  Notes: Age (9)  Member ID: Sex (3)  Notes: Sex (3)  \\\n",
       "count       761076.000000             0.0       761076.000000             0.0   \n",
       "mean             5.000000             NaN            2.000000             NaN   \n",
       "std              2.581991             NaN            0.816497             NaN   \n",
       "min              1.000000             NaN            1.000000             NaN   \n",
       "25%              3.000000             NaN            1.000000             NaN   \n",
       "50%              5.000000             NaN            2.000000             NaN   \n",
       "75%              7.000000             NaN            3.000000             NaN   \n",
       "max              9.000000             NaN            3.000000             NaN   \n",
       "\n",
       "       Member ID: Presence of earner (3)  Notes: Presence of earner (3)  \\\n",
       "count                      761076.000000                            0.0   \n",
       "mean                            2.000000                            NaN   \n",
       "std                             0.816497                            NaN   \n",
       "min                             1.000000                            NaN   \n",
       "25%                             1.000000                            NaN   \n",
       "50%                             2.000000                            NaN   \n",
       "75%                             3.000000                            NaN   \n",
       "max                             3.000000                            NaN   \n",
       "\n",
       "       Member ID: After-tax income groups (18)  \\\n",
       "count                            761076.000000   \n",
       "mean                                  9.500000   \n",
       "std                                   5.188131   \n",
       "min                                   1.000000   \n",
       "25%                                   5.000000   \n",
       "50%                                   9.500000   \n",
       "75%                                  14.000000   \n",
       "max                                  18.000000   \n",
       "\n",
       "       Notes: After-tax income groups (18)  \\\n",
       "count                              42282.0   \n",
       "mean                                   1.0   \n",
       "std                                    0.0   \n",
       "min                                    1.0   \n",
       "25%                                    1.0   \n",
       "50%                                    1.0   \n",
       "75%                                    1.0   \n",
       "max                                    1.0   \n",
       "\n",
       "       Dim: Year (2): Member ID: [1]: 2015 (Note: 2)  \\\n",
       "count                                   7.610760e+05   \n",
       "mean                                    2.376616e+03   \n",
       "std                                     2.000843e+04   \n",
       "min                                     0.000000e+00   \n",
       "25%                                     5.000000e+00   \n",
       "50%                                     2.000000e+01   \n",
       "75%                                     1.400000e+02   \n",
       "max                                     5.313545e+06   \n",
       "\n",
       "       Dim: Year (2): Member ID: [2]: 2005 (Note: 3)  \n",
       "count                                   7.610760e+05  \n",
       "mean                                    2.050372e+03  \n",
       "std                                     1.673855e+04  \n",
       "min                                     0.000000e+00  \n",
       "25%                                     0.000000e+00  \n",
       "50%                                     1.500000e+01  \n",
       "75%                                     1.100000e+02  \n",
       "max                                     4.307135e+06  "
      ]
     },
     "execution_count": 24,
     "metadata": {},
     "output_type": "execute_result"
    }
   ],
   "source": [
    "income_df.describe()"
   ]
  },
  {
   "cell_type": "code",
   "execution_count": 25,
   "id": "d67bd345",
   "metadata": {},
   "outputs": [
    {
     "data": {
      "text/plain": [
       "CENSUS_YEAR                                                                               0\n",
       "GEO_CODE (POR)                                                                            0\n",
       "GEO_LEVEL                                                                                 0\n",
       "GEO_NAME                                                                                  0\n",
       "GNR                                                                                       0\n",
       "DATA_QUALITY_FLAG                                                                         0\n",
       "ALT_GEO_CODE                                                                              0\n",
       "DIM: Household living arrangements for persons not in economic families (3)               0\n",
       "Member ID: Household living arrangements for persons not in economic families (3)         0\n",
       "Notes: Household living arrangements for persons not in economic families (3)        761076\n",
       "DIM: Age (9)                                                                              0\n",
       "Member ID: Age (9)                                                                        0\n",
       "Notes: Age (9)                                                                       761076\n",
       "DIM: Sex (3)                                                                              0\n",
       "Member ID: Sex (3)                                                                        0\n",
       "Notes: Sex (3)                                                                       761076\n",
       "DIM: Presence of earner (3)                                                               0\n",
       "Member ID: Presence of earner (3)                                                         0\n",
       "Notes: Presence of earner (3)                                                        761076\n",
       "DIM: After-tax income groups (18)                                                         0\n",
       "Member ID: After-tax income groups (18)                                                   0\n",
       "Notes: After-tax income groups (18)                                                  718794\n",
       "Dim: Year (2): Member ID: [1]: 2015 (Note: 2)                                             0\n",
       "Dim: Year (2): Member ID: [2]: 2005 (Note: 3)                                             0\n",
       "dtype: int64"
      ]
     },
     "execution_count": 25,
     "metadata": {},
     "output_type": "execute_result"
    }
   ],
   "source": [
    "income_df.isnull().sum()"
   ]
  },
  {
   "cell_type": "code",
   "execution_count": 26,
   "id": "d603700a",
   "metadata": {},
   "outputs": [
    {
     "data": {
      "text/plain": [
       "CENSUS_YEAR                                                                          0.0\n",
       "GEO_CODE (POR)                                                                       0.0\n",
       "GEO_LEVEL                                                                            0.0\n",
       "GEO_NAME                                                                               0\n",
       "GNR                                                                                  0.0\n",
       "DATA_QUALITY_FLAG                                                                    0.0\n",
       "ALT_GEO_CODE                                                                         0.0\n",
       "DIM: Household living arrangements for persons not in economic families (3)            0\n",
       "Member ID: Household living arrangements for persons not in economic families (3)    0.0\n",
       "Notes: Household living arrangements for persons not in economic families (3)        0.0\n",
       "DIM: Age (9)                                                                           0\n",
       "Member ID: Age (9)                                                                   0.0\n",
       "Notes: Age (9)                                                                       0.0\n",
       "DIM: Sex (3)                                                                           0\n",
       "Member ID: Sex (3)                                                                   0.0\n",
       "Notes: Sex (3)                                                                       0.0\n",
       "DIM: Presence of earner (3)                                                            0\n",
       "Member ID: Presence of earner (3)                                                    0.0\n",
       "Notes: Presence of earner (3)                                                        0.0\n",
       "DIM: After-tax income groups (18)                                                      0\n",
       "Member ID: After-tax income groups (18)                                              0.0\n",
       "Notes: After-tax income groups (18)                                                  0.0\n",
       "Dim: Year (2): Member ID: [1]: 2015 (Note: 2)                                        0.0\n",
       "Dim: Year (2): Member ID: [2]: 2005 (Note: 3)                                        0.0\n",
       "dtype: object"
      ]
     },
     "execution_count": 26,
     "metadata": {},
     "output_type": "execute_result"
    }
   ],
   "source": [
    "income_df[income_df == 'x'].sum()"
   ]
  },
  {
   "cell_type": "code",
   "execution_count": 27,
   "id": "d138d0c9",
   "metadata": {},
   "outputs": [
    {
     "data": {
      "text/plain": [
       "CENSUS_YEAR                                                                          0.0\n",
       "GEO_CODE (POR)                                                                       0.0\n",
       "GEO_LEVEL                                                                            0.0\n",
       "GEO_NAME                                                                               0\n",
       "GNR                                                                                  0.0\n",
       "DATA_QUALITY_FLAG                                                                    0.0\n",
       "ALT_GEO_CODE                                                                         0.0\n",
       "DIM: Household living arrangements for persons not in economic families (3)            0\n",
       "Member ID: Household living arrangements for persons not in economic families (3)    0.0\n",
       "Notes: Household living arrangements for persons not in economic families (3)        0.0\n",
       "DIM: Age (9)                                                                           0\n",
       "Member ID: Age (9)                                                                   0.0\n",
       "Notes: Age (9)                                                                       0.0\n",
       "DIM: Sex (3)                                                                           0\n",
       "Member ID: Sex (3)                                                                   0.0\n",
       "Notes: Sex (3)                                                                       0.0\n",
       "DIM: Presence of earner (3)                                                            0\n",
       "Member ID: Presence of earner (3)                                                    0.0\n",
       "Notes: Presence of earner (3)                                                        0.0\n",
       "DIM: After-tax income groups (18)                                                      0\n",
       "Member ID: After-tax income groups (18)                                              0.0\n",
       "Notes: After-tax income groups (18)                                                  0.0\n",
       "Dim: Year (2): Member ID: [1]: 2015 (Note: 2)                                        0.0\n",
       "Dim: Year (2): Member ID: [2]: 2005 (Note: 3)                                        0.0\n",
       "dtype: object"
      ]
     },
     "execution_count": 27,
     "metadata": {},
     "output_type": "execute_result"
    }
   ],
   "source": [
    "income_df[income_df == 'F'].sum()"
   ]
  },
  {
   "cell_type": "code",
   "execution_count": 28,
   "id": "f9348539",
   "metadata": {},
   "outputs": [
    {
     "data": {
      "text/plain": [
       "CENSUS_YEAR                                                                          0.0\n",
       "GEO_CODE (POR)                                                                       0.0\n",
       "GEO_LEVEL                                                                            0.0\n",
       "GEO_NAME                                                                               0\n",
       "GNR                                                                                  0.0\n",
       "DATA_QUALITY_FLAG                                                                    0.0\n",
       "ALT_GEO_CODE                                                                         0.0\n",
       "DIM: Household living arrangements for persons not in economic families (3)            0\n",
       "Member ID: Household living arrangements for persons not in economic families (3)    0.0\n",
       "Notes: Household living arrangements for persons not in economic families (3)        0.0\n",
       "DIM: Age (9)                                                                           0\n",
       "Member ID: Age (9)                                                                   0.0\n",
       "Notes: Age (9)                                                                       0.0\n",
       "DIM: Sex (3)                                                                           0\n",
       "Member ID: Sex (3)                                                                   0.0\n",
       "Notes: Sex (3)                                                                       0.0\n",
       "DIM: Presence of earner (3)                                                            0\n",
       "Member ID: Presence of earner (3)                                                    0.0\n",
       "Notes: Presence of earner (3)                                                        0.0\n",
       "DIM: After-tax income groups (18)                                                      0\n",
       "Member ID: After-tax income groups (18)                                              0.0\n",
       "Notes: After-tax income groups (18)                                                  0.0\n",
       "Dim: Year (2): Member ID: [1]: 2015 (Note: 2)                                        0.0\n",
       "Dim: Year (2): Member ID: [2]: 2005 (Note: 3)                                        0.0\n",
       "dtype: object"
      ]
     },
     "execution_count": 28,
     "metadata": {},
     "output_type": "execute_result"
    }
   ],
   "source": [
    "income_df[income_df == '..'].sum()"
   ]
  },
  {
   "cell_type": "code",
   "execution_count": 29,
   "id": "76a1d819",
   "metadata": {},
   "outputs": [
    {
     "data": {
      "text/plain": [
       "CENSUS_YEAR                                                                          0\n",
       "GEO_CODE (POR)                                                                       0\n",
       "GEO_LEVEL                                                                            0\n",
       "GEO_NAME                                                                             0\n",
       "GNR                                                                                  0\n",
       "DATA_QUALITY_FLAG                                                                    0\n",
       "ALT_GEO_CODE                                                                         0\n",
       "DIM: Household living arrangements for persons not in economic families (3)          0\n",
       "Member ID: Household living arrangements for persons not in economic families (3)    0\n",
       "Notes: Household living arrangements for persons not in economic families (3)        0\n",
       "DIM: Age (9)                                                                         0\n",
       "Member ID: Age (9)                                                                   0\n",
       "Notes: Age (9)                                                                       0\n",
       "DIM: Sex (3)                                                                         0\n",
       "Member ID: Sex (3)                                                                   0\n",
       "Notes: Sex (3)                                                                       0\n",
       "DIM: Presence of earner (3)                                                          0\n",
       "Member ID: Presence of earner (3)                                                    0\n",
       "Notes: Presence of earner (3)                                                        0\n",
       "DIM: After-tax income groups (18)                                                    0\n",
       "Member ID: After-tax income groups (18)                                              0\n",
       "Notes: After-tax income groups (18)                                                  0\n",
       "Dim: Year (2): Member ID: [1]: 2015 (Note: 2)                                        0\n",
       "Dim: Year (2): Member ID: [2]: 2005 (Note: 3)                                        0\n",
       "dtype: int64"
      ]
     },
     "execution_count": 29,
     "metadata": {},
     "output_type": "execute_result"
    }
   ],
   "source": [
    "(income_df == '...').sum()"
   ]
  },
  {
   "cell_type": "code",
   "execution_count": 30,
   "id": "ea70056e",
   "metadata": {},
   "outputs": [
    {
     "data": {
      "text/plain": [
       "CENSUS_YEAR                                                                          761076\n",
       "GEO_CODE (POR)                                                                       761076\n",
       "GEO_LEVEL                                                                            761076\n",
       "GEO_NAME                                                                             761076\n",
       "GNR                                                                                  761076\n",
       "DATA_QUALITY_FLAG                                                                    761076\n",
       "ALT_GEO_CODE                                                                         761076\n",
       "DIM: Household living arrangements for persons not in economic families (3)          761076\n",
       "Member ID: Household living arrangements for persons not in economic families (3)    761076\n",
       "Notes: Household living arrangements for persons not in economic families (3)             0\n",
       "DIM: Age (9)                                                                         761076\n",
       "Member ID: Age (9)                                                                   761076\n",
       "Notes: Age (9)                                                                            0\n",
       "DIM: Sex (3)                                                                         761076\n",
       "Member ID: Sex (3)                                                                   761076\n",
       "Notes: Sex (3)                                                                            0\n",
       "DIM: Presence of earner (3)                                                          761076\n",
       "Member ID: Presence of earner (3)                                                    761076\n",
       "Notes: Presence of earner (3)                                                             0\n",
       "DIM: After-tax income groups (18)                                                    761076\n",
       "Member ID: After-tax income groups (18)                                              761076\n",
       "Notes: After-tax income groups (18)                                                   42282\n",
       "Dim: Year (2): Member ID: [1]: 2015 (Note: 2)                                        761076\n",
       "Dim: Year (2): Member ID: [2]: 2005 (Note: 3)                                        761076\n",
       "dtype: int64"
      ]
     },
     "execution_count": 30,
     "metadata": {},
     "output_type": "execute_result"
    }
   ],
   "source": [
    "income_df.count()"
   ]
  },
  {
   "cell_type": "markdown",
   "id": "8cbc6db4",
   "metadata": {},
   "source": [
    "## Pre-processing of Datasets"
   ]
  },
  {
   "cell_type": "markdown",
   "id": "b275f7eb",
   "metadata": {},
   "source": [
    "### Dataset 1: Aborginal Peoples"
   ]
  },
  {
   "cell_type": "code",
   "execution_count": null,
   "id": "795f7425",
   "metadata": {},
   "outputs": [],
   "source": [
    "# aboriginal_people.head()"
   ]
  },
  {
   "cell_type": "code",
   "execution_count": 31,
   "id": "d9e1de49",
   "metadata": {},
   "outputs": [
    {
     "name": "stdout",
     "output_type": "stream",
     "text": [
      "['CENSUS_YEAR', 'GEO_CODE (POR)', 'GEO_LEVEL', 'GEO_NAME', 'GNR', 'DATA_QUALITY_FLAG', 'ALT_GEO_CODE', 'DIM: Registered or Treaty Indian status (3)', 'Member ID: Registered or Treaty Indian status (3)', 'Notes: Registered or Treaty Indian status (3)', 'DIM: Age (9)', 'Member ID: Age (9)', 'Notes: Age (9)', 'DIM: Sex (3)', 'Member ID: Sex (3)', 'Notes: Sex (3)', 'DIM: Income statistics (17)', 'Member ID: Income statistics (17)', 'Notes: Income statistics (17)', 'Dim: Aboriginal identity (9): Member ID: [1]: Total - Aboriginal identity (Note: 4)', 'Dim: Aboriginal identity (9): Member ID: [2]: Aboriginal identity (Note: 5)', 'Dim: Aboriginal identity (9): Member ID: [3]: Single Aboriginal responses (Note: 6)', 'Dim: Aboriginal identity (9): Member ID: [4]: First Nations (North American Indian) (Note: 7)', 'Dim: Aboriginal identity (9): Member ID: [5]: Métis', 'Dim: Aboriginal identity (9): Member ID: [6]: Inuk (Inuit)', 'Dim: Aboriginal identity (9): Member ID: [7]: Multiple Aboriginal responses (Note: 8)', 'Dim: Aboriginal identity (9): Member ID: [8]: Aboriginal responses not included elsewhere (Note: 9)', 'Dim: Aboriginal identity (9): Member ID: [9]: Non-Aboriginal identity']\n"
     ]
    }
   ],
   "source": [
    "print(list(aboriginal_people_df))"
   ]
  },
  {
   "cell_type": "code",
   "execution_count": 32,
   "id": "031d586a",
   "metadata": {},
   "outputs": [],
   "source": [
    "aboriginal_people = aboriginal_people_df.copy()"
   ]
  },
  {
   "cell_type": "code",
   "execution_count": 33,
   "id": "b69dc081",
   "metadata": {},
   "outputs": [],
   "source": [
    "aboriginal_people = aboriginal_people.drop(['CENSUS_YEAR', 'GEO_CODE (POR)',\n",
    "             'DIM: Registered or Treaty Indian status (3)', 'Notes: Registered or Treaty Indian status (3)', \n",
    "             'DIM: Age (9)','Notes: Age (9)', \n",
    "             'DIM: Sex (3)','Notes: Sex (3)',\n",
    "             'DIM: Income statistics (17)', 'Notes: Income statistics (17)'], axis=1)\n"
   ]
  },
  {
   "cell_type": "code",
   "execution_count": 34,
   "id": "460b6eb2",
   "metadata": {},
   "outputs": [],
   "source": [
    "aboriginal_people.rename(columns = {'Member ID: Registered or Treaty Indian status (3)':'Registered or Treaty Indian status', \n",
    "                                    'Member ID: Age (9)':'Age',\n",
    "                                   'Member ID: Sex (3)': 'Sex',\n",
    "                                   'Member ID: Income statistics (17)':'Income statistics',\n",
    "                                   'Dim: Aboriginal identity (9): Member ID: [1]: Total - Aboriginal identity (Note: 4)': 'Total - Aboriginal identity',\n",
    "                                    'Dim: Aboriginal identity (9): Member ID: [2]: Aboriginal identity (Note: 5)':'Aboriginal identity', \n",
    "                                    'Dim: Aboriginal identity (9): Member ID: [3]: Single Aboriginal responses (Note: 6)': 'Single Aboriginal responses', \n",
    "                                    'Dim: Aboriginal identity (9): Member ID: [4]: First Nations (North American Indian) (Note: 7)': 'First Nations (North American Indian)',\n",
    "                                    'Dim: Aboriginal identity (9): Member ID: [5]: Métis': 'Métis', \n",
    "                                    'Dim: Aboriginal identity (9): Member ID: [6]: Inuk (Inuit)': 'Inuk (Inuit)', \n",
    "                                    'Dim: Aboriginal identity (9): Member ID: [7]: Multiple Aboriginal responses (Note: 8)' : 'Multiple Aboriginal responses', \n",
    "                                    'Dim: Aboriginal identity (9): Member ID: [8]: Aboriginal responses not included elsewhere (Note: 9)': 'Aboriginal responses not included elsewhere', \n",
    "                                    'Dim: Aboriginal identity (9): Member ID: [9]: Non-Aboriginal identity': 'Non-Aboriginal identity'}, inplace = True)\n"
   ]
  },
  {
   "cell_type": "code",
   "execution_count": 35,
   "id": "1339bc79",
   "metadata": {},
   "outputs": [],
   "source": [
    "# aboriginal_people_df.head()"
   ]
  },
  {
   "cell_type": "code",
   "execution_count": 36,
   "id": "3d69c4c8",
   "metadata": {
    "scrolled": true
   },
   "outputs": [
    {
     "data": {
      "text/html": [
       "<div>\n",
       "<style scoped>\n",
       "    .dataframe tbody tr th:only-of-type {\n",
       "        vertical-align: middle;\n",
       "    }\n",
       "\n",
       "    .dataframe tbody tr th {\n",
       "        vertical-align: top;\n",
       "    }\n",
       "\n",
       "    .dataframe thead th {\n",
       "        text-align: right;\n",
       "    }\n",
       "</style>\n",
       "<table border=\"1\" class=\"dataframe\">\n",
       "  <thead>\n",
       "    <tr style=\"text-align: right;\">\n",
       "      <th></th>\n",
       "      <th>GEO_LEVEL</th>\n",
       "      <th>GEO_NAME</th>\n",
       "      <th>GNR</th>\n",
       "      <th>DATA_QUALITY_FLAG</th>\n",
       "      <th>ALT_GEO_CODE</th>\n",
       "      <th>Registered or Treaty Indian status</th>\n",
       "      <th>Age</th>\n",
       "      <th>Sex</th>\n",
       "      <th>Income statistics</th>\n",
       "      <th>Total - Aboriginal identity</th>\n",
       "      <th>Aboriginal identity</th>\n",
       "      <th>Single Aboriginal responses</th>\n",
       "      <th>First Nations (North American Indian)</th>\n",
       "      <th>Métis</th>\n",
       "      <th>Inuk (Inuit)</th>\n",
       "      <th>Multiple Aboriginal responses</th>\n",
       "      <th>Aboriginal responses not included elsewhere</th>\n",
       "      <th>Non-Aboriginal identity</th>\n",
       "    </tr>\n",
       "  </thead>\n",
       "  <tbody>\n",
       "    <tr>\n",
       "      <th>0</th>\n",
       "      <td>0</td>\n",
       "      <td>Canada</td>\n",
       "      <td>5.1</td>\n",
       "      <td>20000</td>\n",
       "      <td>1</td>\n",
       "      <td>1</td>\n",
       "      <td>1</td>\n",
       "      <td>1</td>\n",
       "      <td>1</td>\n",
       "      <td>28643020</td>\n",
       "      <td>1224915</td>\n",
       "      <td>1191495</td>\n",
       "      <td>691405</td>\n",
       "      <td>456555</td>\n",
       "      <td>43530</td>\n",
       "      <td>15300</td>\n",
       "      <td>18120</td>\n",
       "      <td>27418100</td>\n",
       "    </tr>\n",
       "    <tr>\n",
       "      <th>1</th>\n",
       "      <td>0</td>\n",
       "      <td>Canada</td>\n",
       "      <td>5.1</td>\n",
       "      <td>20000</td>\n",
       "      <td>1</td>\n",
       "      <td>1</td>\n",
       "      <td>1</td>\n",
       "      <td>1</td>\n",
       "      <td>2</td>\n",
       "      <td>27489400</td>\n",
       "      <td>1139125</td>\n",
       "      <td>1107725</td>\n",
       "      <td>634225</td>\n",
       "      <td>432640</td>\n",
       "      <td>40860</td>\n",
       "      <td>14200</td>\n",
       "      <td>17200</td>\n",
       "      <td>26350270</td>\n",
       "    </tr>\n",
       "    <tr>\n",
       "      <th>2</th>\n",
       "      <td>0</td>\n",
       "      <td>Canada</td>\n",
       "      <td>5.1</td>\n",
       "      <td>20000</td>\n",
       "      <td>1</td>\n",
       "      <td>1</td>\n",
       "      <td>1</td>\n",
       "      <td>1</td>\n",
       "      <td>3</td>\n",
       "      <td>96</td>\n",
       "      <td>93</td>\n",
       "      <td>93</td>\n",
       "      <td>91.7</td>\n",
       "      <td>94.8</td>\n",
       "      <td>93.9</td>\n",
       "      <td>92.8</td>\n",
       "      <td>94.9</td>\n",
       "      <td>96.1</td>\n",
       "    </tr>\n",
       "    <tr>\n",
       "      <th>3</th>\n",
       "      <td>0</td>\n",
       "      <td>Canada</td>\n",
       "      <td>5.1</td>\n",
       "      <td>20000</td>\n",
       "      <td>1</td>\n",
       "      <td>1</td>\n",
       "      <td>1</td>\n",
       "      <td>1</td>\n",
       "      <td>4</td>\n",
       "      <td>34205</td>\n",
       "      <td>25526</td>\n",
       "      <td>25485</td>\n",
       "      <td>21875</td>\n",
       "      <td>31916</td>\n",
       "      <td>24502</td>\n",
       "      <td>24800</td>\n",
       "      <td>28813</td>\n",
       "      <td>34604</td>\n",
       "    </tr>\n",
       "    <tr>\n",
       "      <th>4</th>\n",
       "      <td>0</td>\n",
       "      <td>Canada</td>\n",
       "      <td>5.1</td>\n",
       "      <td>20000</td>\n",
       "      <td>1</td>\n",
       "      <td>1</td>\n",
       "      <td>1</td>\n",
       "      <td>1</td>\n",
       "      <td>5</td>\n",
       "      <td>47487</td>\n",
       "      <td>36043</td>\n",
       "      <td>35920</td>\n",
       "      <td>31519</td>\n",
       "      <td>42187</td>\n",
       "      <td>37871</td>\n",
       "      <td>41057</td>\n",
       "      <td>39795</td>\n",
       "      <td>47981</td>\n",
       "    </tr>\n",
       "  </tbody>\n",
       "</table>\n",
       "</div>"
      ],
      "text/plain": [
       "   GEO_LEVEL GEO_NAME  GNR  DATA_QUALITY_FLAG  ALT_GEO_CODE  \\\n",
       "0          0   Canada  5.1              20000             1   \n",
       "1          0   Canada  5.1              20000             1   \n",
       "2          0   Canada  5.1              20000             1   \n",
       "3          0   Canada  5.1              20000             1   \n",
       "4          0   Canada  5.1              20000             1   \n",
       "\n",
       "   Registered or Treaty Indian status  Age  Sex  Income statistics  \\\n",
       "0                                   1    1    1                  1   \n",
       "1                                   1    1    1                  2   \n",
       "2                                   1    1    1                  3   \n",
       "3                                   1    1    1                  4   \n",
       "4                                   1    1    1                  5   \n",
       "\n",
       "  Total - Aboriginal identity Aboriginal identity Single Aboriginal responses  \\\n",
       "0                    28643020             1224915                     1191495   \n",
       "1                    27489400             1139125                     1107725   \n",
       "2                          96                  93                          93   \n",
       "3                       34205               25526                       25485   \n",
       "4                       47487               36043                       35920   \n",
       "\n",
       "  First Nations (North American Indian)   Métis Inuk (Inuit)  \\\n",
       "0                                691405  456555        43530   \n",
       "1                                634225  432640        40860   \n",
       "2                                  91.7    94.8         93.9   \n",
       "3                                 21875   31916        24502   \n",
       "4                                 31519   42187        37871   \n",
       "\n",
       "  Multiple Aboriginal responses Aboriginal responses not included elsewhere  \\\n",
       "0                         15300                                       18120   \n",
       "1                         14200                                       17200   \n",
       "2                          92.8                                        94.9   \n",
       "3                         24800                                       28813   \n",
       "4                         41057                                       39795   \n",
       "\n",
       "  Non-Aboriginal identity  \n",
       "0                27418100  \n",
       "1                26350270  \n",
       "2                    96.1  \n",
       "3                   34604  \n",
       "4                   47981  "
      ]
     },
     "execution_count": 36,
     "metadata": {},
     "output_type": "execute_result"
    }
   ],
   "source": [
    "aboriginal_people.head()"
   ]
  },
  {
   "cell_type": "code",
   "execution_count": 37,
   "id": "d2b91f6f",
   "metadata": {},
   "outputs": [],
   "source": [
    "PreProcRes = aboriginal_people.to_csv('Pre-processing_Results.csv', index = False)"
   ]
  },
  {
   "cell_type": "markdown",
   "id": "e5d9339d",
   "metadata": {},
   "source": [
    "### Adding Four-Region Column in Dataset 1"
   ]
  },
  {
   "cell_type": "code",
   "execution_count": 38,
   "id": "d37a3a11",
   "metadata": {},
   "outputs": [
    {
     "data": {
      "text/plain": [
       "dtype('int64')"
      ]
     },
     "execution_count": 38,
     "metadata": {},
     "output_type": "execute_result"
    }
   ],
   "source": [
    "aboriginal_people['ALT_GEO_CODE'].dtypes"
   ]
  },
  {
   "cell_type": "code",
   "execution_count": 39,
   "id": "b431feb8",
   "metadata": {},
   "outputs": [
    {
     "data": {
      "text/html": [
       "<div>\n",
       "<style scoped>\n",
       "    .dataframe tbody tr th:only-of-type {\n",
       "        vertical-align: middle;\n",
       "    }\n",
       "\n",
       "    .dataframe tbody tr th {\n",
       "        vertical-align: top;\n",
       "    }\n",
       "\n",
       "    .dataframe thead th {\n",
       "        text-align: right;\n",
       "    }\n",
       "</style>\n",
       "<table border=\"1\" class=\"dataframe\">\n",
       "  <thead>\n",
       "    <tr style=\"text-align: right;\">\n",
       "      <th></th>\n",
       "      <th>GEO_LEVEL</th>\n",
       "      <th>GEO_NAME</th>\n",
       "      <th>GNR</th>\n",
       "      <th>DATA_QUALITY_FLAG</th>\n",
       "      <th>ALT_GEO_CODE</th>\n",
       "      <th>Registered or Treaty Indian status</th>\n",
       "      <th>Age</th>\n",
       "      <th>Sex</th>\n",
       "      <th>Income statistics</th>\n",
       "      <th>Total - Aboriginal identity</th>\n",
       "      <th>Aboriginal identity</th>\n",
       "      <th>Single Aboriginal responses</th>\n",
       "      <th>First Nations (North American Indian)</th>\n",
       "      <th>Métis</th>\n",
       "      <th>Inuk (Inuit)</th>\n",
       "      <th>Multiple Aboriginal responses</th>\n",
       "      <th>Aboriginal responses not included elsewhere</th>\n",
       "      <th>Non-Aboriginal identity</th>\n",
       "      <th>GEO_CODE_string</th>\n",
       "    </tr>\n",
       "  </thead>\n",
       "  <tbody>\n",
       "    <tr>\n",
       "      <th>0</th>\n",
       "      <td>0</td>\n",
       "      <td>Canada</td>\n",
       "      <td>5.1</td>\n",
       "      <td>20000</td>\n",
       "      <td>1</td>\n",
       "      <td>1</td>\n",
       "      <td>1</td>\n",
       "      <td>1</td>\n",
       "      <td>1</td>\n",
       "      <td>28643020</td>\n",
       "      <td>1224915</td>\n",
       "      <td>1191495</td>\n",
       "      <td>691405</td>\n",
       "      <td>456555</td>\n",
       "      <td>43530</td>\n",
       "      <td>15300</td>\n",
       "      <td>18120</td>\n",
       "      <td>27418100</td>\n",
       "      <td>1</td>\n",
       "    </tr>\n",
       "    <tr>\n",
       "      <th>1</th>\n",
       "      <td>0</td>\n",
       "      <td>Canada</td>\n",
       "      <td>5.1</td>\n",
       "      <td>20000</td>\n",
       "      <td>1</td>\n",
       "      <td>1</td>\n",
       "      <td>1</td>\n",
       "      <td>1</td>\n",
       "      <td>2</td>\n",
       "      <td>27489400</td>\n",
       "      <td>1139125</td>\n",
       "      <td>1107725</td>\n",
       "      <td>634225</td>\n",
       "      <td>432640</td>\n",
       "      <td>40860</td>\n",
       "      <td>14200</td>\n",
       "      <td>17200</td>\n",
       "      <td>26350270</td>\n",
       "      <td>1</td>\n",
       "    </tr>\n",
       "    <tr>\n",
       "      <th>2</th>\n",
       "      <td>0</td>\n",
       "      <td>Canada</td>\n",
       "      <td>5.1</td>\n",
       "      <td>20000</td>\n",
       "      <td>1</td>\n",
       "      <td>1</td>\n",
       "      <td>1</td>\n",
       "      <td>1</td>\n",
       "      <td>3</td>\n",
       "      <td>96</td>\n",
       "      <td>93</td>\n",
       "      <td>93</td>\n",
       "      <td>91.7</td>\n",
       "      <td>94.8</td>\n",
       "      <td>93.9</td>\n",
       "      <td>92.8</td>\n",
       "      <td>94.9</td>\n",
       "      <td>96.1</td>\n",
       "      <td>1</td>\n",
       "    </tr>\n",
       "    <tr>\n",
       "      <th>3</th>\n",
       "      <td>0</td>\n",
       "      <td>Canada</td>\n",
       "      <td>5.1</td>\n",
       "      <td>20000</td>\n",
       "      <td>1</td>\n",
       "      <td>1</td>\n",
       "      <td>1</td>\n",
       "      <td>1</td>\n",
       "      <td>4</td>\n",
       "      <td>34205</td>\n",
       "      <td>25526</td>\n",
       "      <td>25485</td>\n",
       "      <td>21875</td>\n",
       "      <td>31916</td>\n",
       "      <td>24502</td>\n",
       "      <td>24800</td>\n",
       "      <td>28813</td>\n",
       "      <td>34604</td>\n",
       "      <td>1</td>\n",
       "    </tr>\n",
       "    <tr>\n",
       "      <th>4</th>\n",
       "      <td>0</td>\n",
       "      <td>Canada</td>\n",
       "      <td>5.1</td>\n",
       "      <td>20000</td>\n",
       "      <td>1</td>\n",
       "      <td>1</td>\n",
       "      <td>1</td>\n",
       "      <td>1</td>\n",
       "      <td>5</td>\n",
       "      <td>47487</td>\n",
       "      <td>36043</td>\n",
       "      <td>35920</td>\n",
       "      <td>31519</td>\n",
       "      <td>42187</td>\n",
       "      <td>37871</td>\n",
       "      <td>41057</td>\n",
       "      <td>39795</td>\n",
       "      <td>47981</td>\n",
       "      <td>1</td>\n",
       "    </tr>\n",
       "  </tbody>\n",
       "</table>\n",
       "</div>"
      ],
      "text/plain": [
       "   GEO_LEVEL GEO_NAME  GNR  DATA_QUALITY_FLAG  ALT_GEO_CODE  \\\n",
       "0          0   Canada  5.1              20000             1   \n",
       "1          0   Canada  5.1              20000             1   \n",
       "2          0   Canada  5.1              20000             1   \n",
       "3          0   Canada  5.1              20000             1   \n",
       "4          0   Canada  5.1              20000             1   \n",
       "\n",
       "   Registered or Treaty Indian status  Age  Sex  Income statistics  \\\n",
       "0                                   1    1    1                  1   \n",
       "1                                   1    1    1                  2   \n",
       "2                                   1    1    1                  3   \n",
       "3                                   1    1    1                  4   \n",
       "4                                   1    1    1                  5   \n",
       "\n",
       "  Total - Aboriginal identity Aboriginal identity Single Aboriginal responses  \\\n",
       "0                    28643020             1224915                     1191495   \n",
       "1                    27489400             1139125                     1107725   \n",
       "2                          96                  93                          93   \n",
       "3                       34205               25526                       25485   \n",
       "4                       47487               36043                       35920   \n",
       "\n",
       "  First Nations (North American Indian)   Métis Inuk (Inuit)  \\\n",
       "0                                691405  456555        43530   \n",
       "1                                634225  432640        40860   \n",
       "2                                  91.7    94.8         93.9   \n",
       "3                                 21875   31916        24502   \n",
       "4                                 31519   42187        37871   \n",
       "\n",
       "  Multiple Aboriginal responses Aboriginal responses not included elsewhere  \\\n",
       "0                         15300                                       18120   \n",
       "1                         14200                                       17200   \n",
       "2                          92.8                                        94.9   \n",
       "3                         24800                                       28813   \n",
       "4                         41057                                       39795   \n",
       "\n",
       "  Non-Aboriginal identity GEO_CODE_string  \n",
       "0                27418100               1  \n",
       "1                26350270               1  \n",
       "2                    96.1               1  \n",
       "3                   34604               1  \n",
       "4                   47981               1  "
      ]
     },
     "execution_count": 39,
     "metadata": {},
     "output_type": "execute_result"
    }
   ],
   "source": [
    "aboriginal_people['GEO_CODE_string'] = aboriginal_people['ALT_GEO_CODE'].astype(str)\n",
    "aboriginal_people.head()"
   ]
  },
  {
   "cell_type": "code",
   "execution_count": 40,
   "id": "568daaea",
   "metadata": {},
   "outputs": [],
   "source": [
    "def all_region(code):\n",
    "    reg = ''\n",
    "    if code[:2] == '60' or code[:2] == '61' or code[:2] == '62':\n",
    "        reg = 'Northern Canada'\n",
    "    if code[:2] == '10' or code[:2] == '11' or code[:2] == '12' or code[:2] == '13':\n",
    "        reg = 'Atlantic Canada'\n",
    "    if code[:2] == '24' or code[:2] == '35':\n",
    "        reg = 'Central Canada'\n",
    "    if code[:2] == '46' or code[:2] == '47' or code[:2] == '48' or code[:2] == '59':\n",
    "        reg = 'Western Canada'\n",
    "    if code[:2] == '1':\n",
    "        reg = 'Canada'\n",
    "    return reg\n",
    "\n",
    "def tot_region(code):\n",
    "    reg = ''\n",
    "    if code == '60' or code == '61' or code == '62':\n",
    "        reg = 'Northern Canada'\n",
    "    elif code == '10' or code == '11' or code == '12' or code == '13':\n",
    "        reg = 'Atlantic Canada'\n",
    "    elif code == '24' or code == '35':\n",
    "        reg = 'Central Canada'\n",
    "    elif code == '46' or code == '47' or code == '48' or code == '59':\n",
    "        reg = 'Western Canada'\n",
    "    elif code == '1':\n",
    "        reg = 'Canada'\n",
    "    else:\n",
    "        reg = 'NA'\n",
    "    return reg"
   ]
  },
  {
   "cell_type": "code",
   "execution_count": 41,
   "id": "5ebbfddc",
   "metadata": {},
   "outputs": [],
   "source": [
    "# aboriginal_people['GEO_CODE_string'][100][:2]"
   ]
  },
  {
   "cell_type": "code",
   "execution_count": 42,
   "id": "da131d81",
   "metadata": {},
   "outputs": [],
   "source": [
    "aboriginal_people['All Region'] = aboriginal_people.apply(lambda x : all_region(x['GEO_CODE_string']), axis = 1)\n",
    "aboriginal_people['Four-Region'] = aboriginal_people.apply(lambda x : tot_region(x['GEO_CODE_string']), axis = 1)"
   ]
  },
  {
   "cell_type": "code",
   "execution_count": 44,
   "id": "727efd94",
   "metadata": {},
   "outputs": [
    {
     "data": {
      "text/html": [
       "<div>\n",
       "<style scoped>\n",
       "    .dataframe tbody tr th:only-of-type {\n",
       "        vertical-align: middle;\n",
       "    }\n",
       "\n",
       "    .dataframe tbody tr th {\n",
       "        vertical-align: top;\n",
       "    }\n",
       "\n",
       "    .dataframe thead th {\n",
       "        text-align: right;\n",
       "    }\n",
       "</style>\n",
       "<table border=\"1\" class=\"dataframe\">\n",
       "  <thead>\n",
       "    <tr style=\"text-align: right;\">\n",
       "      <th></th>\n",
       "      <th>GEO_LEVEL</th>\n",
       "      <th>GEO_NAME</th>\n",
       "      <th>GNR</th>\n",
       "      <th>DATA_QUALITY_FLAG</th>\n",
       "      <th>ALT_GEO_CODE</th>\n",
       "      <th>Registered or Treaty Indian status</th>\n",
       "      <th>Age</th>\n",
       "      <th>Sex</th>\n",
       "      <th>Income statistics</th>\n",
       "      <th>Total - Aboriginal identity</th>\n",
       "      <th>...</th>\n",
       "      <th>Single Aboriginal responses</th>\n",
       "      <th>First Nations (North American Indian)</th>\n",
       "      <th>Métis</th>\n",
       "      <th>Inuk (Inuit)</th>\n",
       "      <th>Multiple Aboriginal responses</th>\n",
       "      <th>Aboriginal responses not included elsewhere</th>\n",
       "      <th>Non-Aboriginal identity</th>\n",
       "      <th>GEO_CODE_string</th>\n",
       "      <th>All Region</th>\n",
       "      <th>Four-Region</th>\n",
       "    </tr>\n",
       "  </thead>\n",
       "  <tbody>\n",
       "    <tr>\n",
       "      <th>0</th>\n",
       "      <td>0</td>\n",
       "      <td>Canada</td>\n",
       "      <td>5.1</td>\n",
       "      <td>20000</td>\n",
       "      <td>1</td>\n",
       "      <td>1</td>\n",
       "      <td>1</td>\n",
       "      <td>1</td>\n",
       "      <td>1</td>\n",
       "      <td>28643020</td>\n",
       "      <td>...</td>\n",
       "      <td>1191495</td>\n",
       "      <td>691405</td>\n",
       "      <td>456555</td>\n",
       "      <td>43530</td>\n",
       "      <td>15300</td>\n",
       "      <td>18120</td>\n",
       "      <td>27418100</td>\n",
       "      <td>1</td>\n",
       "      <td>Canada</td>\n",
       "      <td>Canada</td>\n",
       "    </tr>\n",
       "    <tr>\n",
       "      <th>1</th>\n",
       "      <td>0</td>\n",
       "      <td>Canada</td>\n",
       "      <td>5.1</td>\n",
       "      <td>20000</td>\n",
       "      <td>1</td>\n",
       "      <td>1</td>\n",
       "      <td>1</td>\n",
       "      <td>1</td>\n",
       "      <td>2</td>\n",
       "      <td>27489400</td>\n",
       "      <td>...</td>\n",
       "      <td>1107725</td>\n",
       "      <td>634225</td>\n",
       "      <td>432640</td>\n",
       "      <td>40860</td>\n",
       "      <td>14200</td>\n",
       "      <td>17200</td>\n",
       "      <td>26350270</td>\n",
       "      <td>1</td>\n",
       "      <td>Canada</td>\n",
       "      <td>Canada</td>\n",
       "    </tr>\n",
       "    <tr>\n",
       "      <th>2</th>\n",
       "      <td>0</td>\n",
       "      <td>Canada</td>\n",
       "      <td>5.1</td>\n",
       "      <td>20000</td>\n",
       "      <td>1</td>\n",
       "      <td>1</td>\n",
       "      <td>1</td>\n",
       "      <td>1</td>\n",
       "      <td>3</td>\n",
       "      <td>96</td>\n",
       "      <td>...</td>\n",
       "      <td>93</td>\n",
       "      <td>91.7</td>\n",
       "      <td>94.8</td>\n",
       "      <td>93.9</td>\n",
       "      <td>92.8</td>\n",
       "      <td>94.9</td>\n",
       "      <td>96.1</td>\n",
       "      <td>1</td>\n",
       "      <td>Canada</td>\n",
       "      <td>Canada</td>\n",
       "    </tr>\n",
       "    <tr>\n",
       "      <th>3</th>\n",
       "      <td>0</td>\n",
       "      <td>Canada</td>\n",
       "      <td>5.1</td>\n",
       "      <td>20000</td>\n",
       "      <td>1</td>\n",
       "      <td>1</td>\n",
       "      <td>1</td>\n",
       "      <td>1</td>\n",
       "      <td>4</td>\n",
       "      <td>34205</td>\n",
       "      <td>...</td>\n",
       "      <td>25485</td>\n",
       "      <td>21875</td>\n",
       "      <td>31916</td>\n",
       "      <td>24502</td>\n",
       "      <td>24800</td>\n",
       "      <td>28813</td>\n",
       "      <td>34604</td>\n",
       "      <td>1</td>\n",
       "      <td>Canada</td>\n",
       "      <td>Canada</td>\n",
       "    </tr>\n",
       "    <tr>\n",
       "      <th>4</th>\n",
       "      <td>0</td>\n",
       "      <td>Canada</td>\n",
       "      <td>5.1</td>\n",
       "      <td>20000</td>\n",
       "      <td>1</td>\n",
       "      <td>1</td>\n",
       "      <td>1</td>\n",
       "      <td>1</td>\n",
       "      <td>5</td>\n",
       "      <td>47487</td>\n",
       "      <td>...</td>\n",
       "      <td>35920</td>\n",
       "      <td>31519</td>\n",
       "      <td>42187</td>\n",
       "      <td>37871</td>\n",
       "      <td>41057</td>\n",
       "      <td>39795</td>\n",
       "      <td>47981</td>\n",
       "      <td>1</td>\n",
       "      <td>Canada</td>\n",
       "      <td>Canada</td>\n",
       "    </tr>\n",
       "  </tbody>\n",
       "</table>\n",
       "<p>5 rows × 21 columns</p>\n",
       "</div>"
      ],
      "text/plain": [
       "   GEO_LEVEL GEO_NAME  GNR  DATA_QUALITY_FLAG  ALT_GEO_CODE  \\\n",
       "0          0   Canada  5.1              20000             1   \n",
       "1          0   Canada  5.1              20000             1   \n",
       "2          0   Canada  5.1              20000             1   \n",
       "3          0   Canada  5.1              20000             1   \n",
       "4          0   Canada  5.1              20000             1   \n",
       "\n",
       "   Registered or Treaty Indian status  Age  Sex  Income statistics  \\\n",
       "0                                   1    1    1                  1   \n",
       "1                                   1    1    1                  2   \n",
       "2                                   1    1    1                  3   \n",
       "3                                   1    1    1                  4   \n",
       "4                                   1    1    1                  5   \n",
       "\n",
       "  Total - Aboriginal identity  ... Single Aboriginal responses  \\\n",
       "0                    28643020  ...                     1191495   \n",
       "1                    27489400  ...                     1107725   \n",
       "2                          96  ...                          93   \n",
       "3                       34205  ...                       25485   \n",
       "4                       47487  ...                       35920   \n",
       "\n",
       "  First Nations (North American Indian)   Métis Inuk (Inuit)  \\\n",
       "0                                691405  456555        43530   \n",
       "1                                634225  432640        40860   \n",
       "2                                  91.7    94.8         93.9   \n",
       "3                                 21875   31916        24502   \n",
       "4                                 31519   42187        37871   \n",
       "\n",
       "  Multiple Aboriginal responses Aboriginal responses not included elsewhere  \\\n",
       "0                         15300                                       18120   \n",
       "1                         14200                                       17200   \n",
       "2                          92.8                                        94.9   \n",
       "3                         24800                                       28813   \n",
       "4                         41057                                       39795   \n",
       "\n",
       "  Non-Aboriginal identity GEO_CODE_string All Region Four-Region  \n",
       "0                27418100               1     Canada      Canada  \n",
       "1                26350270               1     Canada      Canada  \n",
       "2                    96.1               1     Canada      Canada  \n",
       "3                   34604               1     Canada      Canada  \n",
       "4                   47981               1     Canada      Canada  \n",
       "\n",
       "[5 rows x 21 columns]"
      ]
     },
     "execution_count": 44,
     "metadata": {},
     "output_type": "execute_result"
    }
   ],
   "source": [
    "aboriginal_people.head()"
   ]
  },
  {
   "cell_type": "code",
   "execution_count": null,
   "id": "58d15320",
   "metadata": {},
   "outputs": [],
   "source": [
    "Region = aboriginal_people.to_csv('Region_Results.csv', index = False)"
   ]
  },
  {
   "cell_type": "markdown",
   "id": "f031f061",
   "metadata": {},
   "source": [
    "### Dataset 2: Income"
   ]
  },
  {
   "cell_type": "code",
   "execution_count": 45,
   "id": "61b9da6a",
   "metadata": {},
   "outputs": [
    {
     "name": "stdout",
     "output_type": "stream",
     "text": [
      "['CENSUS_YEAR', 'GEO_CODE (POR)', 'GEO_LEVEL', 'GEO_NAME', 'GNR', 'DATA_QUALITY_FLAG', 'ALT_GEO_CODE', 'DIM: Household living arrangements for persons not in economic families (3)', 'Member ID: Household living arrangements for persons not in economic families (3)', 'Notes: Household living arrangements for persons not in economic families (3)', 'DIM: Age (9)', 'Member ID: Age (9)', 'Notes: Age (9)', 'DIM: Sex (3)', 'Member ID: Sex (3)', 'Notes: Sex (3)', 'DIM: Presence of earner (3)', 'Member ID: Presence of earner (3)', 'Notes: Presence of earner (3)', 'DIM: After-tax income groups (18)', 'Member ID: After-tax income groups (18)', 'Notes: After-tax income groups (18)', 'Dim: Year (2): Member ID: [1]: 2015 (Note: 2)', 'Dim: Year (2): Member ID: [2]: 2005 (Note: 3)']\n"
     ]
    }
   ],
   "source": [
    "print(list(income_df))"
   ]
  },
  {
   "cell_type": "code",
   "execution_count": 47,
   "id": "cb8509c1",
   "metadata": {},
   "outputs": [],
   "source": [
    "income = income_df.copy()"
   ]
  },
  {
   "cell_type": "code",
   "execution_count": 48,
   "id": "7c907095",
   "metadata": {},
   "outputs": [],
   "source": [
    "income = income.drop(['CENSUS_YEAR', 'GEO_CODE (POR)',\n",
    "'DIM: Household living arrangements for persons not in economic families (3)',\n",
    "                      'Notes: Household living arrangements for persons not in economic families (3)',\n",
    "                      'DIM: Age (9)', 'Notes: Age (9)',\n",
    "                      'DIM: Sex (3)','Notes: Sex (3)',\n",
    "                      'DIM: Presence of earner (3)',  'Notes: Presence of earner (3)', \n",
    "                      'DIM: After-tax income groups (18)', 'Notes: After-tax income groups (18)'], axis=1)\n",
    "\n",
    "\n",
    "income.rename(columns = {'Member ID: Household living arrangements for persons not in economic families (3)':'Household living arrangements for persons not in economic families', \n",
    "                                    'Member ID: Age (9)':'Age',\n",
    "                                   'Member ID: Sex (3)': 'Sex',\n",
    "                                   'Member ID: Presence of earner (3)':'Presence of earner',\n",
    "                                   'Member ID: After-tax income groups (18)': 'After-tax income groups',\n",
    "                                    'Dim: Year (2): Member ID: [1]: 2015 (Note: 2)':'2015', \n",
    "                                    'Dim: Year (2): Member ID: [2]: 2005 (Note: 3)': '2005'}, inplace = True)\n"
   ]
  },
  {
   "cell_type": "code",
   "execution_count": 49,
   "id": "642f7e11",
   "metadata": {},
   "outputs": [
    {
     "data": {
      "text/html": [
       "<div>\n",
       "<style scoped>\n",
       "    .dataframe tbody tr th:only-of-type {\n",
       "        vertical-align: middle;\n",
       "    }\n",
       "\n",
       "    .dataframe tbody tr th {\n",
       "        vertical-align: top;\n",
       "    }\n",
       "\n",
       "    .dataframe thead th {\n",
       "        text-align: right;\n",
       "    }\n",
       "</style>\n",
       "<table border=\"1\" class=\"dataframe\">\n",
       "  <thead>\n",
       "    <tr style=\"text-align: right;\">\n",
       "      <th></th>\n",
       "      <th>GEO_LEVEL</th>\n",
       "      <th>GEO_NAME</th>\n",
       "      <th>GNR</th>\n",
       "      <th>DATA_QUALITY_FLAG</th>\n",
       "      <th>ALT_GEO_CODE</th>\n",
       "      <th>Household living arrangements for persons not in economic families</th>\n",
       "      <th>Age</th>\n",
       "      <th>Sex</th>\n",
       "      <th>Presence of earner</th>\n",
       "      <th>After-tax income groups</th>\n",
       "      <th>2015</th>\n",
       "      <th>2005</th>\n",
       "    </tr>\n",
       "  </thead>\n",
       "  <tbody>\n",
       "    <tr>\n",
       "      <th>0</th>\n",
       "      <td>0</td>\n",
       "      <td>Canada</td>\n",
       "      <td>4.0</td>\n",
       "      <td>20000</td>\n",
       "      <td>1</td>\n",
       "      <td>1</td>\n",
       "      <td>1</td>\n",
       "      <td>1</td>\n",
       "      <td>1</td>\n",
       "      <td>1</td>\n",
       "      <td>5313545</td>\n",
       "      <td>4307135</td>\n",
       "    </tr>\n",
       "    <tr>\n",
       "      <th>1</th>\n",
       "      <td>0</td>\n",
       "      <td>Canada</td>\n",
       "      <td>4.0</td>\n",
       "      <td>20000</td>\n",
       "      <td>1</td>\n",
       "      <td>1</td>\n",
       "      <td>1</td>\n",
       "      <td>1</td>\n",
       "      <td>1</td>\n",
       "      <td>2</td>\n",
       "      <td>315875</td>\n",
       "      <td>282555</td>\n",
       "    </tr>\n",
       "    <tr>\n",
       "      <th>2</th>\n",
       "      <td>0</td>\n",
       "      <td>Canada</td>\n",
       "      <td>4.0</td>\n",
       "      <td>20000</td>\n",
       "      <td>1</td>\n",
       "      <td>1</td>\n",
       "      <td>1</td>\n",
       "      <td>1</td>\n",
       "      <td>1</td>\n",
       "      <td>3</td>\n",
       "      <td>257870</td>\n",
       "      <td>245195</td>\n",
       "    </tr>\n",
       "    <tr>\n",
       "      <th>3</th>\n",
       "      <td>0</td>\n",
       "      <td>Canada</td>\n",
       "      <td>4.0</td>\n",
       "      <td>20000</td>\n",
       "      <td>1</td>\n",
       "      <td>1</td>\n",
       "      <td>1</td>\n",
       "      <td>1</td>\n",
       "      <td>1</td>\n",
       "      <td>4</td>\n",
       "      <td>450115</td>\n",
       "      <td>377985</td>\n",
       "    </tr>\n",
       "    <tr>\n",
       "      <th>4</th>\n",
       "      <td>0</td>\n",
       "      <td>Canada</td>\n",
       "      <td>4.0</td>\n",
       "      <td>20000</td>\n",
       "      <td>1</td>\n",
       "      <td>1</td>\n",
       "      <td>1</td>\n",
       "      <td>1</td>\n",
       "      <td>1</td>\n",
       "      <td>5</td>\n",
       "      <td>617555</td>\n",
       "      <td>587035</td>\n",
       "    </tr>\n",
       "  </tbody>\n",
       "</table>\n",
       "</div>"
      ],
      "text/plain": [
       "   GEO_LEVEL GEO_NAME  GNR  DATA_QUALITY_FLAG  ALT_GEO_CODE  \\\n",
       "0          0   Canada  4.0              20000             1   \n",
       "1          0   Canada  4.0              20000             1   \n",
       "2          0   Canada  4.0              20000             1   \n",
       "3          0   Canada  4.0              20000             1   \n",
       "4          0   Canada  4.0              20000             1   \n",
       "\n",
       "   Household living arrangements for persons not in economic families  Age  \\\n",
       "0                                                  1                     1   \n",
       "1                                                  1                     1   \n",
       "2                                                  1                     1   \n",
       "3                                                  1                     1   \n",
       "4                                                  1                     1   \n",
       "\n",
       "   Sex  Presence of earner  After-tax income groups     2015     2005  \n",
       "0    1                   1                        1  5313545  4307135  \n",
       "1    1                   1                        2   315875   282555  \n",
       "2    1                   1                        3   257870   245195  \n",
       "3    1                   1                        4   450115   377985  \n",
       "4    1                   1                        5   617555   587035  "
      ]
     },
     "execution_count": 49,
     "metadata": {},
     "output_type": "execute_result"
    }
   ],
   "source": [
    "income.head()"
   ]
  },
  {
   "cell_type": "markdown",
   "id": "a81f9cfa",
   "metadata": {},
   "source": [
    "## Part 2) Metrics Calculation"
   ]
  },
  {
   "cell_type": "markdown",
   "id": "dc70b3d5",
   "metadata": {},
   "source": [
    "###  a.\tProportion of population by “Aboriginal Identity” and “Non-Aboriginal Identity”"
   ]
  },
  {
   "cell_type": "code",
   "execution_count": 50,
   "id": "7d43a4d7",
   "metadata": {},
   "outputs": [
    {
     "data": {
      "text/plain": [
       "array(['Atlantic Canada', 'Central Canada', 'Western Canada',\n",
       "       'Northern Canada'], dtype=object)"
      ]
     },
     "execution_count": 50,
     "metadata": {},
     "output_type": "execute_result"
    }
   ],
   "source": [
    "filter_list = aboriginal_people['Four-Region'].unique()\n",
    "filter_list = np.delete(filter_list, 2)\n",
    "filter_list = np.delete(filter_list, 0)\n",
    "\n",
    "filter_list"
   ]
  },
  {
   "cell_type": "code",
   "execution_count": null,
   "id": "8109e64d",
   "metadata": {},
   "outputs": [],
   "source": [
    "# reg_list = filter_list.tolist()\n",
    "# reg_list"
   ]
  },
  {
   "cell_type": "code",
   "execution_count": 51,
   "id": "ffdae4a4",
   "metadata": {},
   "outputs": [],
   "source": [
    "data = []\n",
    "Pop = pd.DataFrame(data)"
   ]
  },
  {
   "cell_type": "code",
   "execution_count": 52,
   "id": "8f024cd8",
   "metadata": {},
   "outputs": [],
   "source": [
    "Pop['Region']= filter_list"
   ]
  },
  {
   "cell_type": "code",
   "execution_count": 53,
   "id": "8d6e9e9f",
   "metadata": {},
   "outputs": [
    {
     "data": {
      "text/html": [
       "<div>\n",
       "<style scoped>\n",
       "    .dataframe tbody tr th:only-of-type {\n",
       "        vertical-align: middle;\n",
       "    }\n",
       "\n",
       "    .dataframe tbody tr th {\n",
       "        vertical-align: top;\n",
       "    }\n",
       "\n",
       "    .dataframe thead th {\n",
       "        text-align: right;\n",
       "    }\n",
       "</style>\n",
       "<table border=\"1\" class=\"dataframe\">\n",
       "  <thead>\n",
       "    <tr style=\"text-align: right;\">\n",
       "      <th></th>\n",
       "      <th>Region</th>\n",
       "    </tr>\n",
       "  </thead>\n",
       "  <tbody>\n",
       "    <tr>\n",
       "      <th>0</th>\n",
       "      <td>Atlantic Canada</td>\n",
       "    </tr>\n",
       "    <tr>\n",
       "      <th>1</th>\n",
       "      <td>Central Canada</td>\n",
       "    </tr>\n",
       "    <tr>\n",
       "      <th>2</th>\n",
       "      <td>Western Canada</td>\n",
       "    </tr>\n",
       "    <tr>\n",
       "      <th>3</th>\n",
       "      <td>Northern Canada</td>\n",
       "    </tr>\n",
       "  </tbody>\n",
       "</table>\n",
       "</div>"
      ],
      "text/plain": [
       "            Region\n",
       "0  Atlantic Canada\n",
       "1   Central Canada\n",
       "2   Western Canada\n",
       "3  Northern Canada"
      ]
     },
     "execution_count": 53,
     "metadata": {},
     "output_type": "execute_result"
    }
   ],
   "source": [
    "Pop"
   ]
  },
  {
   "cell_type": "code",
   "execution_count": 54,
   "id": "0111eab4",
   "metadata": {},
   "outputs": [],
   "source": [
    "## Define function # for loops"
   ]
  },
  {
   "cell_type": "code",
   "execution_count": 55,
   "id": "bf6ea957",
   "metadata": {},
   "outputs": [],
   "source": [
    "ab_list = []\n",
    "for i in Pop['Region']:\n",
    "    ab_list.append(aboriginal_people[(aboriginal_people['Registered or Treaty Indian status'] == 1) & (aboriginal_people.Age == 1)\n",
    "                 & (aboriginal_people['Income statistics'] == 1) & (aboriginal_people.Sex == 1) & \n",
    "                  (aboriginal_people['Four-Region'] == i)]['Aboriginal identity'].astype(int).sum())"
   ]
  },
  {
   "cell_type": "code",
   "execution_count": 56,
   "id": "49fbede8",
   "metadata": {},
   "outputs": [
    {
     "data": {
      "text/plain": [
       "[100835, 427715, 654975, 41400]"
      ]
     },
     "execution_count": 56,
     "metadata": {},
     "output_type": "execute_result"
    }
   ],
   "source": [
    "ab_list"
   ]
  },
  {
   "cell_type": "code",
   "execution_count": 57,
   "id": "2b1c59d6",
   "metadata": {},
   "outputs": [],
   "source": [
    "Pop['Aboriginal identity Population'] = ab_list"
   ]
  },
  {
   "cell_type": "code",
   "execution_count": 58,
   "id": "315ff80e",
   "metadata": {},
   "outputs": [],
   "source": [
    "nab_list = []\n",
    "for i in Pop['Region']:\n",
    "    nab_list.append(aboriginal_people[(aboriginal_people['Registered or Treaty Indian status'] == 1) & (aboriginal_people.Age == 1)\n",
    "                 & (aboriginal_people['Income statistics'] == 1) & (aboriginal_people.Sex == 1) & \n",
    "                  (aboriginal_people['Four-Region'] == i)]['Non-Aboriginal identity'].astype(int).sum())"
   ]
  },
  {
   "cell_type": "code",
   "execution_count": 59,
   "id": "096741a5",
   "metadata": {},
   "outputs": [
    {
     "data": {
      "text/plain": [
       "[1849295, 17245005, 8280055, 43740]"
      ]
     },
     "execution_count": 59,
     "metadata": {},
     "output_type": "execute_result"
    }
   ],
   "source": [
    "nab_list"
   ]
  },
  {
   "cell_type": "code",
   "execution_count": 60,
   "id": "805b872a",
   "metadata": {},
   "outputs": [],
   "source": [
    "Pop['Non-Aboriginal identity Population'] = nab_list"
   ]
  },
  {
   "cell_type": "code",
   "execution_count": 61,
   "id": "bfa27d66",
   "metadata": {},
   "outputs": [],
   "source": [
    "Pop['Aboriginal & Non-Aboriginal Population Proportion'] = Pop['Aboriginal identity Population']/ Pop['Non-Aboriginal identity Population'] "
   ]
  },
  {
   "cell_type": "code",
   "execution_count": 62,
   "id": "afde8cc4",
   "metadata": {},
   "outputs": [
    {
     "data": {
      "text/html": [
       "<div>\n",
       "<style scoped>\n",
       "    .dataframe tbody tr th:only-of-type {\n",
       "        vertical-align: middle;\n",
       "    }\n",
       "\n",
       "    .dataframe tbody tr th {\n",
       "        vertical-align: top;\n",
       "    }\n",
       "\n",
       "    .dataframe thead th {\n",
       "        text-align: right;\n",
       "    }\n",
       "</style>\n",
       "<table border=\"1\" class=\"dataframe\">\n",
       "  <thead>\n",
       "    <tr style=\"text-align: right;\">\n",
       "      <th></th>\n",
       "      <th>Region</th>\n",
       "      <th>Aboriginal identity Population</th>\n",
       "      <th>Non-Aboriginal identity Population</th>\n",
       "      <th>Aboriginal &amp; Non-Aboriginal Population Proportion</th>\n",
       "    </tr>\n",
       "  </thead>\n",
       "  <tbody>\n",
       "    <tr>\n",
       "      <th>0</th>\n",
       "      <td>Atlantic Canada</td>\n",
       "      <td>100835</td>\n",
       "      <td>1849295</td>\n",
       "      <td>0.054526</td>\n",
       "    </tr>\n",
       "    <tr>\n",
       "      <th>1</th>\n",
       "      <td>Central Canada</td>\n",
       "      <td>427715</td>\n",
       "      <td>17245005</td>\n",
       "      <td>0.024802</td>\n",
       "    </tr>\n",
       "    <tr>\n",
       "      <th>2</th>\n",
       "      <td>Western Canada</td>\n",
       "      <td>654975</td>\n",
       "      <td>8280055</td>\n",
       "      <td>0.079103</td>\n",
       "    </tr>\n",
       "    <tr>\n",
       "      <th>3</th>\n",
       "      <td>Northern Canada</td>\n",
       "      <td>41400</td>\n",
       "      <td>43740</td>\n",
       "      <td>0.946502</td>\n",
       "    </tr>\n",
       "  </tbody>\n",
       "</table>\n",
       "</div>"
      ],
      "text/plain": [
       "            Region  Aboriginal identity Population  \\\n",
       "0  Atlantic Canada                          100835   \n",
       "1   Central Canada                          427715   \n",
       "2   Western Canada                          654975   \n",
       "3  Northern Canada                           41400   \n",
       "\n",
       "   Non-Aboriginal identity Population  \\\n",
       "0                             1849295   \n",
       "1                            17245005   \n",
       "2                             8280055   \n",
       "3                               43740   \n",
       "\n",
       "   Aboriginal & Non-Aboriginal Population Proportion  \n",
       "0                                           0.054526  \n",
       "1                                           0.024802  \n",
       "2                                           0.079103  \n",
       "3                                           0.946502  "
      ]
     },
     "execution_count": 62,
     "metadata": {},
     "output_type": "execute_result"
    }
   ],
   "source": [
    "Pop.head()"
   ]
  },
  {
   "cell_type": "code",
   "execution_count": 63,
   "id": "26f19db6",
   "metadata": {},
   "outputs": [],
   "source": [
    "# Pop = aboriginal_people[(aboriginal_people['Registered or Treaty Indian status'] == 1) & (aboriginal_people.Age == 1)\n",
    "#                  & (aboriginal_people['Income statistics'] == 1) & (aboriginal_people.Sex == 1)].groupby('Four-Region')\n",
    "# Pop.get_group('Central Canada')"
   ]
  },
  {
   "cell_type": "markdown",
   "id": "25869c66",
   "metadata": {},
   "source": [
    "#### Difference in count because of \"...\": Not Applicable data"
   ]
  },
  {
   "cell_type": "markdown",
   "id": "b8ef1916",
   "metadata": {},
   "source": [
    "### b.\tAverage Total Income for “Aboriginal Identity” and “Non-Aboriginal Identity”"
   ]
  },
  {
   "cell_type": "code",
   "execution_count": null,
   "id": "4d95d041",
   "metadata": {},
   "outputs": [],
   "source": [
    "# income = pop * avg income -> sum\n",
    "# https://stats.stackexchange.com/questions/133138/will-the-mean-of-a-set-of-means-always-be-the-same-as-the-mean-obtained-from-the "
   ]
  },
  {
   "cell_type": "code",
   "execution_count": null,
   "id": "ebfd0538",
   "metadata": {},
   "outputs": [],
   "source": [
    "abi_list = []\n",
    "for i in Pop['Region']:\n",
    "    abi_list.append(aboriginal_people[(aboriginal_people['Registered or Treaty Indian status'] == 1) & (aboriginal_people.Age == 1)\n",
    "                 & (aboriginal_people['Income statistics'] == 5) & (aboriginal_people.Sex == 1) & \n",
    "                  (aboriginal_people['Four-Region'] == i)]['Aboriginal identity'].astype(int).sum()/aboriginal_people[(aboriginal_people['Registered or Treaty Indian status'] == 1) & (aboriginal_people.Age == 1)\n",
    "                 & (aboriginal_people['Income statistics'] == 5) & (aboriginal_people.Sex == 1) & \n",
    "                  (aboriginal_people['Four-Region'] == i)]['Aboriginal identity'].count())"
   ]
  },
  {
   "cell_type": "code",
   "execution_count": null,
   "id": "bf153eb7",
   "metadata": {},
   "outputs": [],
   "source": [
    "abi_list"
   ]
  },
  {
   "cell_type": "code",
   "execution_count": null,
   "id": "ea17cf69",
   "metadata": {},
   "outputs": [],
   "source": [
    "Pop['Aboriginal identity Avg Income'] = abi_list"
   ]
  },
  {
   "cell_type": "code",
   "execution_count": null,
   "id": "61e1ec97",
   "metadata": {},
   "outputs": [],
   "source": [
    "nabi_list = []\n",
    "for i in Pop[\"Region\"]:\n",
    "    nabi_list.append(aboriginal_people[(aboriginal_people['Registered or Treaty Indian status'] == 1) & (aboriginal_people.Age == 1)\n",
    "                 & (aboriginal_people['Income statistics'] == 5) & (aboriginal_people.Sex == 1) & \n",
    "                  (aboriginal_people['Four-Region'] == i)]['Non-Aboriginal identity'].astype(int).sum()/aboriginal_people[(aboriginal_people['Registered or Treaty Indian status'] == 1) & (aboriginal_people.Age == 1)\n",
    "                 & (aboriginal_people['Income statistics'] == 5) & (aboriginal_people.Sex == 1) & \n",
    "                  (aboriginal_people['Four-Region'] == i)]['Non-Aboriginal identity'].count())"
   ]
  },
  {
   "cell_type": "code",
   "execution_count": null,
   "id": "6a9bb150",
   "metadata": {},
   "outputs": [],
   "source": [
    "nabi_list"
   ]
  },
  {
   "cell_type": "code",
   "execution_count": null,
   "id": "193f0fb7",
   "metadata": {},
   "outputs": [],
   "source": [
    "Pop['Non-Aboriginal identity Avg Income'] = nabi_list"
   ]
  },
  {
   "cell_type": "code",
   "execution_count": null,
   "id": "7196bb81",
   "metadata": {},
   "outputs": [],
   "source": [
    "Pop.head()"
   ]
  },
  {
   "cell_type": "markdown",
   "id": "588d3478",
   "metadata": {},
   "source": [
    "### c.\tProportion of male vs. female population by “Aboriginal Identity” and “Non-Aboriginal Identity”"
   ]
  },
  {
   "cell_type": "code",
   "execution_count": null,
   "id": "ae7e2ea7",
   "metadata": {},
   "outputs": [],
   "source": [
    "abm_list = []\n",
    "for i in Pop['Region']:\n",
    "    abm_list.append(aboriginal_people[(aboriginal_people['Registered or Treaty Indian status'] == 1) & (aboriginal_people.Age == 1)\n",
    "                 & (aboriginal_people['Income statistics'] == 1) & (aboriginal_people.Sex == 2) & \n",
    "                  (aboriginal_people['Four-Region'] == i)]['Aboriginal identity'].astype(int).sum())"
   ]
  },
  {
   "cell_type": "code",
   "execution_count": null,
   "id": "b5d76879",
   "metadata": {},
   "outputs": [],
   "source": [
    "abm_list"
   ]
  },
  {
   "cell_type": "code",
   "execution_count": null,
   "id": "c223ea02",
   "metadata": {},
   "outputs": [],
   "source": [
    "Pop['Aboriginal identity Male Population'] = abm_list"
   ]
  },
  {
   "cell_type": "code",
   "execution_count": null,
   "id": "f79a9aa2",
   "metadata": {},
   "outputs": [],
   "source": [
    "nabm_list = []\n",
    "for i in Pop[\"Region\"]:\n",
    "    nabm_list.append(aboriginal_people[(aboriginal_people['Registered or Treaty Indian status'] == 1) & (aboriginal_people.Age == 1)\n",
    "                 & (aboriginal_people['Income statistics'] == 1) & (aboriginal_people.Sex == 2) & \n",
    "                  (aboriginal_people['Four-Region'] == i)]['Non-Aboriginal identity'].astype(int).sum())"
   ]
  },
  {
   "cell_type": "code",
   "execution_count": null,
   "id": "f34620e3",
   "metadata": {},
   "outputs": [],
   "source": [
    "nabm_list"
   ]
  },
  {
   "cell_type": "code",
   "execution_count": null,
   "id": "68f8a65d",
   "metadata": {},
   "outputs": [],
   "source": [
    "Pop['Non-Aboriginal identity Male Population'] = nabm_list"
   ]
  },
  {
   "cell_type": "code",
   "execution_count": null,
   "id": "4d912514",
   "metadata": {},
   "outputs": [],
   "source": [
    "abf_list = []\n",
    "for i in Pop[\"Region\"]:\n",
    "    abf_list.append(aboriginal_people[(aboriginal_people['Registered or Treaty Indian status'] == 1) & (aboriginal_people.Age == 1)\n",
    "                 & (aboriginal_people['Income statistics'] == 1) & (aboriginal_people.Sex == 3) & \n",
    "                  (aboriginal_people['Four-Region'] == i)]['Aboriginal identity'].astype(int).sum())\n",
    "\n",
    "Pop['Aboriginal identity Female Population'] = abf_list\n",
    "\n",
    "nabf_list = []\n",
    "for i in Pop[\"Region\"]:\n",
    "    nabf_list.append(aboriginal_people[(aboriginal_people['Registered or Treaty Indian status'] == 1) & (aboriginal_people.Age == 1)\n",
    "                 & (aboriginal_people['Income statistics'] == 1) & (aboriginal_people.Sex == 3) & \n",
    "                  (aboriginal_people['Four-Region'] == i)]['Non-Aboriginal identity'].astype(int).sum())\n",
    "    \n",
    "Pop['Non-Aboriginal identity Female Population'] = nabf_list"
   ]
  },
  {
   "cell_type": "code",
   "execution_count": null,
   "id": "c07e5ddd",
   "metadata": {},
   "outputs": [],
   "source": [
    "Pop['Male vs Female Population Aboriginal identity'] = Pop['Aboriginal identity Male Population']/Pop['Aboriginal identity Female Population']"
   ]
  },
  {
   "cell_type": "code",
   "execution_count": null,
   "id": "463eee92",
   "metadata": {},
   "outputs": [],
   "source": [
    "Pop['Male vs Female Population Non-Aboriginal identity '] = Pop['Non-Aboriginal identity Male Population']/Pop['Non-Aboriginal identity Female Population']"
   ]
  },
  {
   "cell_type": "code",
   "execution_count": null,
   "id": "3a723a63",
   "metadata": {},
   "outputs": [],
   "source": [
    "Pop.head()"
   ]
  },
  {
   "cell_type": "markdown",
   "id": "ad45c3db",
   "metadata": {},
   "source": [
    "### d.\tAge group with most number of individuals with “Aboriginal identity” "
   ]
  },
  {
   "cell_type": "code",
   "execution_count": null,
   "id": "006f9ae4",
   "metadata": {},
   "outputs": [],
   "source": [
    "abimax = []\n",
    "\n",
    "for i in Pop[\"Region\"]:\n",
    "    abimax.append(str(aboriginal_people[(aboriginal_people['Registered or Treaty Indian status'] == 1)\n",
    "                 & (aboriginal_people['Income statistics'] == 1) & (aboriginal_people.Sex == 1)\n",
    "             & (aboriginal_people.Age != 1) & (aboriginal_people['Four-Region'] == i)]['Aboriginal identity'].astype(int).max()))\n",
    "\n"
   ]
  },
  {
   "cell_type": "code",
   "execution_count": null,
   "id": "ae307f29",
   "metadata": {},
   "outputs": [],
   "source": [
    "abimax"
   ]
  },
  {
   "cell_type": "code",
   "execution_count": null,
   "id": "28033c8e",
   "metadata": {},
   "outputs": [],
   "source": [
    "# aboriginal_people['Aboriginal identity']"
   ]
  },
  {
   "cell_type": "code",
   "execution_count": null,
   "id": "a8ee64a1",
   "metadata": {},
   "outputs": [],
   "source": [
    "aba_list = []\n",
    "for i in abimax:\n",
    "    aba_list.append(int(aboriginal_people[(aboriginal_people['Aboriginal identity'] == i) & (aboriginal_people['Registered or Treaty Indian status'] == 1)\n",
    "                 & (aboriginal_people['Income statistics'] == 1) & (aboriginal_people.Sex == 1)]['Age']))"
   ]
  },
  {
   "cell_type": "code",
   "execution_count": null,
   "id": "80736572",
   "metadata": {},
   "outputs": [],
   "source": [
    "aba_list"
   ]
  },
  {
   "cell_type": "code",
   "execution_count": null,
   "id": "73a18f14",
   "metadata": {},
   "outputs": [],
   "source": [
    "Pop['Aboriginal identity Max Age Group'] = aba_list\n",
    "# Pop['Non-Aboriginal identity Max Age Population'] = naba_list"
   ]
  },
  {
   "cell_type": "code",
   "execution_count": null,
   "id": "77456531",
   "metadata": {},
   "outputs": [],
   "source": [
    "# a = aboriginal_people.loc[aboriginal_people['Aboriginal identity'] == str(aboriginal_people[(aboriginal_people['Registered or Treaty Indian status'] == 1)\n",
    "#                  & (aboriginal_people['Income statistics'] == 1) & (aboriginal_people.Sex == 1) & \n",
    "#                   (aboriginal_people['Four-Region'] == 'Canada')]['Aboriginal identity'].astype(int).max())]['Age']"
   ]
  },
  {
   "cell_type": "code",
   "execution_count": null,
   "id": "57dd9459",
   "metadata": {},
   "outputs": [],
   "source": [
    "Pop.head()"
   ]
  },
  {
   "cell_type": "code",
   "execution_count": null,
   "id": "e121eee6",
   "metadata": {},
   "outputs": [],
   "source": [
    "Pop_res = Pop.to_csv('Pop_Results.csv', index = False)"
   ]
  },
  {
   "cell_type": "markdown",
   "id": "08d5cc10",
   "metadata": {},
   "source": [
    "#### Age 25 to 64 years have most number of individuals with “Aboriginal identity” "
   ]
  },
  {
   "cell_type": "markdown",
   "id": "2cc918d4",
   "metadata": {},
   "source": [
    "## Part 3) Heat map to visualize the total Aboriginal population by Canadian Geography"
   ]
  },
  {
   "cell_type": "code",
   "execution_count": null,
   "id": "275a48bf",
   "metadata": {},
   "outputs": [],
   "source": [
    "# Pop['Region_category'] = Pop.index\n",
    "# Pop.head()"
   ]
  },
  {
   "cell_type": "code",
   "execution_count": null,
   "id": "a9f39e22",
   "metadata": {},
   "outputs": [],
   "source": [
    "# aboriginal_pop = Pop[['Region_category', 'Aboriginal identity Population']]\n",
    "# aboriginal_pop.head()"
   ]
  },
  {
   "cell_type": "code",
   "execution_count": null,
   "id": "ce3be244",
   "metadata": {},
   "outputs": [],
   "source": [
    "# sns.heatmap(aboriginal_pop, annot=True)"
   ]
  },
  {
   "cell_type": "code",
   "execution_count": null,
   "id": "43030226",
   "metadata": {},
   "outputs": [],
   "source": [
    "# aboriginal_pop.groupby('Region_category')[['Aboriginal identity Population']]"
   ]
  },
  {
   "cell_type": "code",
   "execution_count": null,
   "id": "50097353",
   "metadata": {},
   "outputs": [],
   "source": [
    "Ab_pop = Pop.copy()\n",
    "Ab_pop= Ab_pop.sort_values(by='Aboriginal identity Population')"
   ]
  },
  {
   "cell_type": "code",
   "execution_count": null,
   "id": "57a433cc",
   "metadata": {},
   "outputs": [],
   "source": [
    "table = pd.pivot_table(Ab_pop, values='Aboriginal identity Population', index=['Region'], aggfunc=np.sum, sort = False)"
   ]
  },
  {
   "cell_type": "code",
   "execution_count": null,
   "id": "10c34214",
   "metadata": {
    "scrolled": true
   },
   "outputs": [],
   "source": [
    "table"
   ]
  },
  {
   "cell_type": "code",
   "execution_count": null,
   "id": "a7d9159a",
   "metadata": {},
   "outputs": [],
   "source": [
    "ax = sns.heatmap(table, square=True, cmap=\"Greens\")\n",
    "plt.setp( ax.xaxis.get_majorticklabels(), rotation=90 )\n",
    "# plt.tight_layout()\n",
    "plt.show()\n"
   ]
  },
  {
   "cell_type": "markdown",
   "id": "16f3015d",
   "metadata": {},
   "source": [
    "## Part 4) Visualizing the population and Average Total Income by selecting the various Dimensions"
   ]
  },
  {
   "cell_type": "code",
   "execution_count": null,
   "id": "e6bca150",
   "metadata": {},
   "outputs": [],
   "source": [
    "aboriginal_people.head()"
   ]
  },
  {
   "cell_type": "code",
   "execution_count": null,
   "id": "15ce0711",
   "metadata": {},
   "outputs": [],
   "source": [
    "vis = aboriginal_people[['GEO_NAME', 'ALT_GEO_CODE','Registered or Treaty Indian status','Age','Sex','Income statistics','Total - Aboriginal identity','Aboriginal identity' ,'Non-Aboriginal identity', 'Four-Region' ]]"
   ]
  },
  {
   "cell_type": "code",
   "execution_count": null,
   "id": "594ad04f",
   "metadata": {},
   "outputs": [],
   "source": [
    "vis = vis[ (vis['Income statistics'] == 1) | (vis['Income statistics'] == 5) ]"
   ]
  },
  {
   "cell_type": "code",
   "execution_count": null,
   "id": "4640aa79",
   "metadata": {},
   "outputs": [],
   "source": [
    "vis.head()"
   ]
  },
  {
   "cell_type": "code",
   "execution_count": null,
   "id": "a798958e",
   "metadata": {},
   "outputs": [],
   "source": [
    "vis_pop = vis[vis['Income statistics'] == 1]\n",
    "vis_pop.head()"
   ]
  },
  {
   "cell_type": "code",
   "execution_count": null,
   "id": "96124c26",
   "metadata": {},
   "outputs": [],
   "source": [
    "vis_inc = vis[vis['Income statistics'] == 5]\n",
    "vis_inc.head()"
   ]
  },
  {
   "cell_type": "code",
   "execution_count": null,
   "id": "5baeb75b",
   "metadata": {},
   "outputs": [],
   "source": [
    "vis['Sex'] = vis['Sex'].replace(2, 'Male')\n",
    "vis['Sex'] = vis['Sex'].replace(3, 'Female')\n",
    "\n",
    "\n",
    "vis['Age'] = vis['Age'].replace(2, '15 to 24 years')\n",
    "vis['Age'] = vis['Age'].replace(3,'25 to 64 years')\n",
    "vis['Age'] = vis['Age'].replace(4,'25 to 54 years')\n",
    "vis['Age'] = vis['Age'].replace(5,'25 to 34 years')\n",
    "vis['Age'] = vis['Age'].replace(6,'35 to 44 years')\n",
    "vis['Age'] = vis['Age'].replace(7,'45 to 54 years')\n",
    "vis['Age'] = vis['Age'].replace(8,'55 to 64 years')\n",
    "vis['Age'] = vis['Age'].replace(9,'65 years and over')\n",
    "\n",
    "vis['Income statistics'] = vis['Income statistics'].replace(1, 'Total Population')\n",
    "vis['Income statistics'] = vis['Income statistics'].replace(5, 'Total Average Income')\n",
    "\n",
    "\n",
    "vis"
   ]
  },
  {
   "cell_type": "code",
   "execution_count": null,
   "id": "b44d8473",
   "metadata": {},
   "outputs": [],
   "source": [
    "vis.to_csv('Visual.csv', index = False)"
   ]
  },
  {
   "cell_type": "markdown",
   "id": "4c261185",
   "metadata": {},
   "source": [
    "## Part 5) Joining Dataset 1 and 2 and create a single dataset as per Canadian Province"
   ]
  },
  {
   "cell_type": "code",
   "execution_count": null,
   "id": "c0fd5565",
   "metadata": {},
   "outputs": [],
   "source": [
    "aboriginal_people"
   ]
  },
  {
   "cell_type": "code",
   "execution_count": null,
   "id": "9557e2d9",
   "metadata": {},
   "outputs": [],
   "source": [
    "income"
   ]
  },
  {
   "cell_type": "code",
   "execution_count": null,
   "id": "e0d6d909",
   "metadata": {},
   "outputs": [],
   "source": [
    "list(aboriginal_people['ALT_GEO_CODE'].unique()) == list(income['ALT_GEO_CODE'].unique())"
   ]
  },
  {
   "cell_type": "code",
   "execution_count": null,
   "id": "d4df38cd",
   "metadata": {},
   "outputs": [],
   "source": [
    "len(list(aboriginal_people['ALT_GEO_CODE'].unique()))"
   ]
  },
  {
   "cell_type": "code",
   "execution_count": null,
   "id": "fa2e0243",
   "metadata": {},
   "outputs": [],
   "source": [
    "samset1 = aboriginal_people['ALT_GEO_CODE'].unique()"
   ]
  },
  {
   "cell_type": "code",
   "execution_count": null,
   "id": "b50bc86f",
   "metadata": {},
   "outputs": [],
   "source": [
    "samset = [10, 11]"
   ]
  },
  {
   "cell_type": "code",
   "execution_count": null,
   "id": "5a7de6fa",
   "metadata": {},
   "outputs": [],
   "source": [
    "aboriginal_people_s = aboriginal_people[aboriginal_people['ALT_GEO_CODE'].isin(samset)]"
   ]
  },
  {
   "cell_type": "code",
   "execution_count": null,
   "id": "cf424977",
   "metadata": {},
   "outputs": [],
   "source": [
    "samset2 = income['ALT_GEO_CODE'].unique()[:2]"
   ]
  },
  {
   "cell_type": "code",
   "execution_count": null,
   "id": "6295b11f",
   "metadata": {},
   "outputs": [],
   "source": [
    "income_s = income[income['ALT_GEO_CODE'].isin(samset)]"
   ]
  },
  {
   "cell_type": "code",
   "execution_count": null,
   "id": "958f4eb6",
   "metadata": {},
   "outputs": [],
   "source": [
    "# #Taking 20% of data\n",
    "# aboriginal_people_s = aboriginal_people.sample(n = 10000)\n",
    "# income_s = income.sample(n = 20000)"
   ]
  },
  {
   "cell_type": "code",
   "execution_count": null,
   "id": "9d8b12b5",
   "metadata": {},
   "outputs": [],
   "source": [
    "aps = aboriginal_people_s.to_csv('aboriginal_people_s.csv', index = False)\n",
    "i_s = income_s.to_csv('income_s.csv', index = False)"
   ]
  },
  {
   "cell_type": "code",
   "execution_count": null,
   "id": "f633cc0b",
   "metadata": {},
   "outputs": [],
   "source": [
    "aps = pd.read_csv('aboriginal_people_s.csv')\n",
    "i_s = pd.read_csv('income_s.csv')"
   ]
  },
  {
   "cell_type": "code",
   "execution_count": null,
   "id": "beb134d1",
   "metadata": {},
   "outputs": [],
   "source": [
    "df = pd.merge(aps, i_s, on='ALT_GEO_CODE', how = 'inner')"
   ]
  },
  {
   "cell_type": "code",
   "execution_count": null,
   "id": "31faa4c8",
   "metadata": {},
   "outputs": [],
   "source": [
    "# df = pd.merge(aboriginal_people_s, income_s, on='ALT_GEO_CODE', how = 'inner')"
   ]
  },
  {
   "cell_type": "code",
   "execution_count": null,
   "id": "f22b7665",
   "metadata": {},
   "outputs": [],
   "source": [
    "df"
   ]
  },
  {
   "cell_type": "code",
   "execution_count": null,
   "id": "b5dbcbb3",
   "metadata": {
    "scrolled": true
   },
   "outputs": [],
   "source": [
    "df.shape"
   ]
  },
  {
   "cell_type": "code",
   "execution_count": null,
   "id": "3b514265",
   "metadata": {},
   "outputs": [],
   "source": [
    "df_res = df.to_csv('df.csv', index = False)"
   ]
  },
  {
   "cell_type": "code",
   "execution_count": null,
   "id": "d3c3d974",
   "metadata": {},
   "outputs": [],
   "source": [
    "Province = ['Newfoundland and Labrador','Prince Edward Island',\n",
    "'Nova Scotia',\n",
    "'New Brunswick',\n",
    "'Quebec',\n",
    "'Ontario',\n",
    "'Manitoba',\n",
    "'Saskatchewan',\n",
    "'Alberta',\n",
    "'British Columbia',\n",
    "'Yukon',\n",
    "'Northwest Territories',\n",
    "'Nunavut']"
   ]
  },
  {
   "cell_type": "code",
   "execution_count": null,
   "id": "f5375dbd",
   "metadata": {},
   "outputs": [],
   "source": [
    "Province_code = [10, 11, 12, 13, 24, 35, 46, 47, 48, 59, 60, 61, 62]"
   ]
  },
  {
   "cell_type": "code",
   "execution_count": null,
   "id": "307fbb95",
   "metadata": {},
   "outputs": [],
   "source": [
    "# df[(df.Sex_y == 1) & (df.Age_y == 1) & (df.Sex_x == 1) & (df.Age_x == 1)\n",
    "#   & (df['Income statistics'] == 1) & (df['ALT_GEO_CODE'] == 10)]\n",
    "# .groupby() #Pop_mdf.get_group('Central Canada')"
   ]
  },
  {
   "cell_type": "code",
   "execution_count": null,
   "id": "33468837",
   "metadata": {},
   "outputs": [],
   "source": [
    "df.head()"
   ]
  },
  {
   "cell_type": "code",
   "execution_count": null,
   "id": "81efbfc4",
   "metadata": {},
   "outputs": [],
   "source": [
    "# df[(df['Registered or Treaty Indian status'] == 1) & (df.Age_x == 1) & (df.Age_y == 1) & (df['Income statistics'] == 1) & (df.Sex_x == 1) & (df.Sex_y == 1) & (df['ALT_GEO_CODE'] == 1)]['Total - Aboriginal identity'].unique()"
   ]
  },
  {
   "cell_type": "code",
   "execution_count": null,
   "id": "a9e3b6bd",
   "metadata": {},
   "outputs": [],
   "source": [
    "# df[(df['Registered or Treaty Indian status'] == 1) & (df.Age_x == 1) & (df.Age_y == 1) & (df['Income statistics'] == 1) & (df.Sex_x == 1) & (df.Sex_y == 1) & (df['ALT_GEO_CODE'] == 10)]['Total - Aboriginal identity'].unique()"
   ]
  },
  {
   "cell_type": "code",
   "execution_count": null,
   "id": "a3f52df4",
   "metadata": {},
   "outputs": [],
   "source": [
    "abl = []\n",
    "for i in [10, 11]:\n",
    "    abl.append(int(df[(df['Registered or Treaty Indian status'] == 1) & (df.Age_x == 1) & (df.Age_y == 1) & (df['Income statistics'] == 1) & (df.Sex_x == 1) & (df.Sex_y == 1) & (df['ALT_GEO_CODE'] == i)]['Aboriginal identity'].unique()))\n",
    "# Filter/ Group by for province code and the Aboriginal and Non-aboriginal values"
   ]
  },
  {
   "cell_type": "code",
   "execution_count": null,
   "id": "0ac4a618",
   "metadata": {},
   "outputs": [],
   "source": [
    "abl"
   ]
  },
  {
   "cell_type": "code",
   "execution_count": null,
   "id": "e33e99f1",
   "metadata": {},
   "outputs": [],
   "source": [
    "nabl = []\n",
    "for i in [10, 11]:\n",
    "    nabl.append(int(df[(df['Registered or Treaty Indian status'] == 1) & (df.Age_x == 1) & (df.Age_y == 1) & (df['Income statistics'] == 1) & (df.Sex_x == 1) & (df.Sex_y == 1) & (df['ALT_GEO_CODE'] == i)]['Non-Aboriginal identity'].unique()))\n",
    "# Filter/ Group by for province code and the Aboriginal and Non-aboriginal values"
   ]
  },
  {
   "cell_type": "code",
   "execution_count": null,
   "id": "b0c58f4d",
   "metadata": {},
   "outputs": [],
   "source": [
    "nabl"
   ]
  },
  {
   "cell_type": "code",
   "execution_count": null,
   "id": "bd0faf0e",
   "metadata": {},
   "outputs": [],
   "source": [
    "tot14 = []\n",
    "for i in [10, 11]:\n",
    "    tot14.append(int(df[(df['Registered or Treaty Indian status'] == 1) & (df.Age_x == 1) & (df.Age_y == 1)\n",
    "     & (df['Presence of earner'] == 3) & (df['Household living arrangements for persons not in economic families'] == 1)\n",
    "                   & (df['After-tax income groups'] == 14)\n",
    "    & (df['Income statistics'] == 1) & (df.Sex_x == 1) & (df.Sex_y == 1) & (df['ALT_GEO_CODE'] == i)]['Total - Aboriginal identity']))\n"
   ]
  },
  {
   "cell_type": "code",
   "execution_count": null,
   "id": "0f350163",
   "metadata": {},
   "outputs": [],
   "source": [
    "tot14"
   ]
  },
  {
   "cell_type": "code",
   "execution_count": null,
   "id": "cfb71b77",
   "metadata": {},
   "outputs": [],
   "source": [
    "tot15 = []\n",
    "for i in [10, 11]:\n",
    "    tot15.append(int(df[(df['Registered or Treaty Indian status'] == 1) & (df.Age_x == 1) & (df.Age_y == 1)\n",
    "     & (df['Presence of earner'] == 3) & (df['Household living arrangements for persons not in economic families'] == 1)\n",
    "                   & (df['After-tax income groups'] == 15)\n",
    "    & (df['Income statistics'] == 1) & (df.Sex_x == 1) & (df.Sex_y == 1) & (df['ALT_GEO_CODE'] == i)]['Total - Aboriginal identity']))\n"
   ]
  },
  {
   "cell_type": "code",
   "execution_count": null,
   "id": "9894d984",
   "metadata": {},
   "outputs": [],
   "source": [
    "tot15"
   ]
  },
  {
   "cell_type": "code",
   "execution_count": null,
   "id": "a2db653f",
   "metadata": {},
   "outputs": [],
   "source": [
    "tot16 = []\n",
    "for i in [10, 11]:\n",
    "    tot16.append(int(df[(df['Registered or Treaty Indian status'] == 1) & (df.Age_x == 1) & (df.Age_y == 1)\n",
    "     & (df['Presence of earner'] == 3) & (df['Household living arrangements for persons not in economic families'] == 1)\n",
    "                   & (df['After-tax income groups'] == 16)\n",
    "    & (df['Income statistics'] == 1) & (df.Sex_x == 1) & (df.Sex_y == 1) & (df['ALT_GEO_CODE'] == i)]['Total - Aboriginal identity']))\n"
   ]
  },
  {
   "cell_type": "code",
   "execution_count": null,
   "id": "a0d73561",
   "metadata": {
    "scrolled": true
   },
   "outputs": [],
   "source": [
    "tot16"
   ]
  },
  {
   "cell_type": "code",
   "execution_count": null,
   "id": "d05bae9d",
   "metadata": {},
   "outputs": [],
   "source": [
    "tot17 = []\n",
    "for i in [10, 11]:\n",
    "    tot17.append(int(df[(df['Registered or Treaty Indian status'] == 1) & (df.Age_x == 1) & (df.Age_y == 1)\n",
    "     & (df['Presence of earner'] == 3) & (df['Household living arrangements for persons not in economic families'] == 1)\n",
    "                   & (df['After-tax income groups'] == 14)\n",
    "    & (df['Income statistics'] == 1) & (df.Sex_x == 1) & (df.Sex_y == 1) & (df['ALT_GEO_CODE'] == i)]['Total - Aboriginal identity']))\n"
   ]
  },
  {
   "cell_type": "code",
   "execution_count": null,
   "id": "c61b88f6",
   "metadata": {},
   "outputs": [],
   "source": [
    "tot17"
   ]
  },
  {
   "cell_type": "code",
   "execution_count": null,
   "id": "da779476",
   "metadata": {},
   "outputs": [],
   "source": [
    "result_list = list(map(lambda a, b, c, d: a + b+ c+ d, tot14, tot15, tot16, tot17))"
   ]
  },
  {
   "cell_type": "code",
   "execution_count": null,
   "id": "a039db6c",
   "metadata": {},
   "outputs": [],
   "source": [
    "result_list"
   ]
  },
  {
   "cell_type": "code",
   "execution_count": null,
   "id": "7e1560a1",
   "metadata": {},
   "outputs": [],
   "source": [
    "# c.Total population in 2015 in high income group (after-tax income >= $70,000) where an earner is present in the household\n",
    "# Year = 2015\n",
    "# Age = 1\n",
    "# Sex = 1\n",
    "# Earner = 3\n",
    "# after-tax income = 14 , 15, 16, 17\n",
    "# Household living arrangements for persons not in economic families = 1\n",
    "# filter as per province code"
   ]
  },
  {
   "cell_type": "markdown",
   "id": "fe6ca34e",
   "metadata": {},
   "source": [
    "## Converting Code into a script"
   ]
  },
  {
   "cell_type": "code",
   "execution_count": 64,
   "id": "8ffab987",
   "metadata": {},
   "outputs": [],
   "source": [
    "def get_file_data(filepath):\n",
    "    df = pd.read_csv(filepath)\n",
    "    return df"
   ]
  },
  {
   "cell_type": "code",
   "execution_count": 65,
   "id": "c3a7c46e",
   "metadata": {},
   "outputs": [],
   "source": [
    "def load_data_and_calculate_symbol_counts(filepath):\n",
    "    df = get_file_data(filepath)\n",
    "    df_count = df.count()\n",
    "    \n",
    "    blank_values = df[df == ' '].count() # Counting Blank Values\n",
    "    null_values = df.isnull().sum() # Counting Null Values\n",
    "    x_values = df[df == 'x'].sum()\n",
    "    f_values = df[df == 'F'].sum()\n",
    "    dd_values = df[df == '..'].count()\n",
    "    ddd_values = (df == '...').sum().sort_values(ascending = False)\n",
    "    \n",
    "    return {\"df\": df,\n",
    "            \"df_count\": df_count, \n",
    "            \"blank_values\": blank_values,\n",
    "            \"null_values\": null_values,\n",
    "            \"x_values\": x_values,\n",
    "            \"f_values\": f_values,\n",
    "            \"dd_values\": dd_values,\n",
    "            \"ddd_values\": ddd_values}"
   ]
  },
  {
   "cell_type": "code",
   "execution_count": 66,
   "id": "38cafd48",
   "metadata": {},
   "outputs": [],
   "source": [
    "# Data Files\n",
    "aboriginal_people_filepath = \"../98-400-X2016170_English_CSV_data.csv\"\n",
    "aborginal_geo_filepath = \"../Geo_starting_row_CSV_aborginal.csv\"\n",
    "income_filepath = \"../98-400-X2016131_English_CSV_data.csv\"\n",
    "income_geo_filepath = \"../Geo_starting_row_CSV_income.csv\""
   ]
  },
  {
   "cell_type": "code",
   "execution_count": 67,
   "id": "11555301",
   "metadata": {},
   "outputs": [],
   "source": [
    "aboriginal_people = load_data_and_calculate_symbol_counts(aboriginal_people_filepath)\n",
    "aborginal_geo = load_data_and_calculate_symbol_counts(aborginal_geo_filepath) \n",
    "income = load_data_and_calculate_symbol_counts(income_filepath)\n",
    "income_geo = load_data_and_calculate_symbol_counts(income_geo_filepath)"
   ]
  },
  {
   "cell_type": "code",
   "execution_count": 68,
   "id": "1b17d302",
   "metadata": {},
   "outputs": [],
   "source": [
    "def all_region(code):\n",
    "    reg = ''\n",
    "    if code[:2] == '60' or code[:2] == '61' or code[:2] == '62':\n",
    "        reg = 'Northern Canada'\n",
    "    if code[:2] == '10' or code[:2] == '11' or code[:2] == '12' or code[:2] == '13':\n",
    "        reg = 'Atlantic Canada'\n",
    "    if code[:2] == '24' or code[:2] == '35':\n",
    "        reg = 'Central Canada'\n",
    "    if code[:2] == '46' or code[:2] == '47' or code[:2] == '48' or code[:2] == '59':\n",
    "        reg = 'Western Canada'\n",
    "    if code[:2] == '1':\n",
    "        reg = 'Canada'\n",
    "    return reg\n",
    "\n",
    "def tot_region(code):\n",
    "    reg = ''\n",
    "    if code == '60' or code == '61' or code == '62':\n",
    "        reg = 'Northern Canada'\n",
    "    elif code == '10' or code == '11' or code == '12' or code == '13':\n",
    "        reg = 'Atlantic Canada'\n",
    "    elif code == '24' or code == '35':\n",
    "        reg = 'Central Canada'\n",
    "    elif code == '46' or code == '47' or code == '48' or code == '59':\n",
    "        reg = 'Western Canada'\n",
    "    elif code == '1':\n",
    "        reg = 'Canada'\n",
    "    else:\n",
    "        reg = 'NA'\n",
    "    return reg\n",
    "    return"
   ]
  },
  {
   "cell_type": "code",
   "execution_count": 69,
   "id": "62d4cbd4",
   "metadata": {},
   "outputs": [],
   "source": [
    "def preprocess_save_add_four_region_in_aborginal_people(df):\n",
    "    df = df.drop(['CENSUS_YEAR', 'GEO_CODE (POR)',\n",
    "             'DIM: Registered or Treaty Indian status (3)', 'Notes: Registered or Treaty Indian status (3)', \n",
    "             'DIM: Age (9)','Notes: Age (9)', \n",
    "             'DIM: Sex (3)','Notes: Sex (3)',\n",
    "             'DIM: Income statistics (17)', 'Notes: Income statistics (17)'], axis=1)\n",
    "    df.rename(columns = {'Member ID: Registered or Treaty Indian status (3)':'Registered or Treaty Indian status', \n",
    "                                    'Member ID: Age (9)':'Age',\n",
    "                                   'Member ID: Sex (3)': 'Sex',\n",
    "                                   'Member ID: Income statistics (17)':'Income statistics',\n",
    "                                   'Dim: Aboriginal identity (9): Member ID: [1]: Total - Aboriginal identity (Note: 4)': 'Total - Aboriginal identity',\n",
    "                                    'Dim: Aboriginal identity (9): Member ID: [2]: Aboriginal identity (Note: 5)':'Aboriginal identity', \n",
    "                                    'Dim: Aboriginal identity (9): Member ID: [3]: Single Aboriginal responses (Note: 6)': 'Single Aboriginal responses', \n",
    "                                    'Dim: Aboriginal identity (9): Member ID: [4]: First Nations (North American Indian) (Note: 7)': 'First Nations (North American Indian)',\n",
    "                                    'Dim: Aboriginal identity (9): Member ID: [5]: Métis': 'Métis', \n",
    "                                    'Dim: Aboriginal identity (9): Member ID: [6]: Inuk (Inuit)': 'Inuk (Inuit)', \n",
    "                                    'Dim: Aboriginal identity (9): Member ID: [7]: Multiple Aboriginal responses (Note: 8)' : 'Multiple Aboriginal responses', \n",
    "                                    'Dim: Aboriginal identity (9): Member ID: [8]: Aboriginal responses not included elsewhere (Note: 9)': 'Aboriginal responses not included elsewhere', \n",
    "                                    'Dim: Aboriginal identity (9): Member ID: [9]: Non-Aboriginal identity': 'Non-Aboriginal identity'}, inplace = True)\n",
    "    df.to_csv('Pre-processing_Results.csv', index = False)\n",
    "    \n",
    "    df['GEO_CODE_string'] = df['ALT_GEO_CODE'].astype(str)\n",
    "    df['All Region'] = df.apply(lambda x : all_region(x['GEO_CODE_string']), axis = 1)\n",
    "    df['Four-Region'] = df.apply(lambda x : tot_region(x['GEO_CODE_string']), axis = 1)\n",
    "    \n",
    "    df.to_csv('Region_Results.csv', index = False)\n",
    "    return"
   ]
  },
  {
   "cell_type": "code",
   "execution_count": 70,
   "id": "73a48bb9",
   "metadata": {},
   "outputs": [],
   "source": [
    "def preprocess_income_data(df):\n",
    "    df = df.drop(['CENSUS_YEAR', 'GEO_CODE (POR)',\n",
    "    'DIM: Household living arrangements for persons not in economic families (3)',\n",
    "                          'Notes: Household living arrangements for persons not in economic families (3)',\n",
    "                          'DIM: Age (9)', 'Notes: Age (9)',\n",
    "                          'DIM: Sex (3)','Notes: Sex (3)',\n",
    "                          'DIM: Presence of earner (3)',  'Notes: Presence of earner (3)', \n",
    "                          'DIM: After-tax income groups (18)', 'Notes: After-tax income groups (18)'], axis=1)\n",
    "\n",
    "\n",
    "    df.rename(columns = {'Member ID: Household living arrangements for persons not in economic families (3)':'Household living arrangements for persons not in economic families', \n",
    "                                        'Member ID: Age (9)':'Age',\n",
    "                                       'Member ID: Sex (3)': 'Sex',\n",
    "                                       'Member ID: Presence of earner (3)':'Presence of earner',\n",
    "                                       'Member ID: After-tax income groups (18)': 'After-tax income groups',\n",
    "                                        'Dim: Year (2): Member ID: [1]: 2015 (Note: 2)':'2015', \n",
    "                                        'Dim: Year (2): Member ID: [2]: 2005 (Note: 3)': '2005'}, inplace = True)\n",
    "    return"
   ]
  },
  {
   "cell_type": "code",
   "execution_count": 71,
   "id": "583d9350",
   "metadata": {},
   "outputs": [],
   "source": [
    "def get_aborginal_identity_and_non_aborginal_identity_population(df):\n",
    "    filter_list = df['Four-Region'].unique()\n",
    "    filter_list = np.delete(filter_list, 2)\n",
    "    filter_list = np.delete(filter_list, 0)\n",
    "    data = []\n",
    "    Pop = pd.DataFrame(data)\n",
    "    Pop['Region']= filter_list\n",
    "    ab_list = []\n",
    "    for i in Pop['Region']:\n",
    "        ab_list.append(aboriginal_people[(aboriginal_people['Registered or Treaty Indian status'] == 1) & (aboriginal_people.Age == 1)\n",
    "                 & (aboriginal_people['Income statistics'] == 1) & (aboriginal_people.Sex == 1) & \n",
    "                  (aboriginal_people['Four-Region'] == i)]['Aboriginal identity'].astype(int).sum())\n",
    "    Pop['Aboriginal identity Population'] = ab_list\n",
    "    nab_list = []\n",
    "    for i in Pop['Region']:\n",
    "        nab_list.append(aboriginal_people[(aboriginal_people['Registered or Treaty Indian status'] == 1) & (aboriginal_people.Age == 1)\n",
    "                 & (aboriginal_people['Income statistics'] == 1) & (aboriginal_people.Sex == 1) & \n",
    "                  (aboriginal_people['Four-Region'] == i)]['Non-Aboriginal identity'].astype(int).sum())\n",
    "    Pop['Non-Aboriginal identity Population'] = nab_list\n",
    "    Pop['Aboriginal & Non-Aboriginal Population Proportion'] = Pop['Aboriginal identity Population']/ Pop['Non-Aboriginal identity Population']\n",
    "    return Pop"
   ]
  },
  {
   "cell_type": "code",
   "execution_count": null,
   "id": "25a6351a",
   "metadata": {},
   "outputs": [],
   "source": []
  },
  {
   "cell_type": "code",
   "execution_count": null,
   "id": "4ea263af",
   "metadata": {},
   "outputs": [],
   "source": []
  }
 ],
 "metadata": {
  "kernelspec": {
   "display_name": "Python 3",
   "language": "python",
   "name": "python3"
  },
  "language_info": {
   "codemirror_mode": {
    "name": "ipython",
    "version": 3
   },
   "file_extension": ".py",
   "mimetype": "text/x-python",
   "name": "python",
   "nbconvert_exporter": "python",
   "pygments_lexer": "ipython3",
   "version": "3.8.8"
  }
 },
 "nbformat": 4,
 "nbformat_minor": 5
}
